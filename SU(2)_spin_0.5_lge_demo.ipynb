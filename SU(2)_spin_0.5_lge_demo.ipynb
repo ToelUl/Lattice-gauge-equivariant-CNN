{
 "cells": [
  {
   "metadata": {},
   "cell_type": "code",
   "outputs": [],
   "execution_count": null,
   "source": [
    "!git clone https://github.com/ToelUl/Lattice-gauge-equivariant-CNN.git\n",
    "\n",
    "!cp -r Lattice-gauge-equivariant-CNN/lge ./"
   ],
   "id": "6adce56bcf10b7c8"
  },
  {
   "metadata": {},
   "cell_type": "code",
   "outputs": [],
   "execution_count": null,
   "source": [
    "import numpy as np\n",
    "import torch\n",
    "import lge\n",
    "\n",
    "device = torch.device(\"cuda\" if torch.cuda.is_available() else \"cpu\")\n",
    "print(f\"Using device: {device}\")"
   ],
   "id": "466c889fa2e5e0a"
  },
  {
   "metadata": {},
   "cell_type": "markdown",
   "source": "# SU(2) spin $\\frac{1}{2}$ group equivariant and invariant model",
   "id": "7614d04cb190d237"
  },
  {
   "metadata": {},
   "cell_type": "markdown",
   "source": "## Initialize the group",
   "id": "4b05e146f85fa0ea"
  },
  {
   "metadata": {
    "ExecuteTime": {
     "end_time": "2025-03-15T11:08:22.497292Z",
     "start_time": "2025-03-15T11:08:22.482542Z"
    }
   },
   "cell_type": "code",
   "source": [
    "su2_group = lge.SU2Group().to(device)\n",
    "su2_rep_dim = su2_group.rep_dim\n",
    "lie_algebra = su2_group.algebra\n",
    "print(f\"SU(2) representation dimension: {su2_rep_dim}\")\n",
    "print(f\"SU(2) Lie algebra dimension: {lie_algebra.lie_alg_dim}\")\n",
    "print(f'Generator of SU(2) Lie algebra : {lie_algebra.generators()}')\n",
    "print(f'Identity element of SU(2) group: {su2_group.identity}')"
   ],
   "id": "d17832fc18574c59",
   "outputs": [
    {
     "name": "stdout",
     "output_type": "stream",
     "text": [
      "SU(2) representation dimension: 2\n",
      "SU(2) Lie algebra dimension: 3\n",
      "Generator of SU(2) Lie algebra : [tensor([[0.-0.0000j, 0.-0.5000j],\n",
      "        [0.-0.5000j, 0.-0.0000j]]), tensor([[ 0.0000-0.j, -0.5000+0.j],\n",
      "        [ 0.5000-0.j,  0.0000-0.j]]), tensor([[0.-0.5000j, 0.-0.0000j],\n",
      "        [0.-0.0000j, 0.+0.5000j]])]\n",
      "Identity element of SU(2) group: tensor([[1.+0.j, 0.+0.j],\n",
      "        [0.+0.j, 1.+0.j]], device='cuda:0')\n"
     ]
    }
   ],
   "execution_count": 42
  },
  {
   "metadata": {},
   "cell_type": "markdown",
   "source": "## Initialize the equivariant and invariant neural network",
   "id": "aad47defe0822e01"
  },
  {
   "metadata": {},
   "cell_type": "markdown",
   "source": "### 2D lattice",
   "id": "66dc97ea500ca6c"
  },
  {
   "metadata": {
    "ExecuteTime": {
     "end_time": "2025-03-15T11:08:24.539966Z",
     "start_time": "2025-03-15T11:08:24.533819Z"
    }
   },
   "cell_type": "code",
   "source": [
    "L = 4 # Lattice size\n",
    "dims = [L, L] # Dimensions of the lattice\n",
    "hidden_sizes = [5, 5] # Hidden layer sizes. Number of output channels (Wilson loops and links) per lattice site.\n",
    "kernel_size = 2 # Kernel size or range for convolution, which means the maximum size of Wilson loop.\n",
    "out_channels = len(dims) # Number of output channels (Wilson loops and links) per lattice site.\n",
    "\n",
    "su2_gauge_equivariant_model_2d = lge.LgeConvNet(\n",
    "    dims=dims,\n",
    "    hidden_sizes=hidden_sizes,\n",
    "    kernel_size=kernel_size,\n",
    "    out_channels=out_channels,\n",
    "    group=su2_group,\n",
    "    gauge_invariant=False,\n",
    "    use_norm=True,\n",
    "    use_act_fn=True,\n",
    "    threshold=1e-6\n",
    ").to(device)"
   ],
   "id": "285dd7c8a5e26c0c",
   "outputs": [],
   "execution_count": 43
  },
  {
   "metadata": {},
   "cell_type": "markdown",
   "source": "Check the model's structure",
   "id": "59ba4b784000e0a4"
  },
  {
   "metadata": {
    "ExecuteTime": {
     "end_time": "2025-03-15T11:08:26.542621Z",
     "start_time": "2025-03-15T11:08:26.538278Z"
    }
   },
   "cell_type": "code",
   "source": "lge.check_model(su2_gauge_equivariant_model_2d)",
   "id": "ca082917698a4407",
   "outputs": [
    {
     "name": "stdout",
     "output_type": "stream",
     "text": [
      "LgeConvNet(\n",
      "  (group): SU2Group(\n",
      "    (algebra): SU2LieAlgebra()\n",
      "  )\n",
      "  (plaquette_layer): Plaquette(\n",
      "    (group): SU2Group(\n",
      "      (algebra): SU2LieAlgebra()\n",
      "    )\n",
      "  )\n",
      "  (input_conv): LConvBilin()\n",
      "  (after_input): Sequential(\n",
      "    (0): LgeReLU()\n",
      "    (1): TrNorm()\n",
      "  )\n",
      "  (hidden_block): Sequential(\n",
      "    (0): LConvBilin()\n",
      "    (1): LgeReLU()\n",
      "    (2): TrNorm()\n",
      "    (3): LConvBilin()\n",
      "    (4): LgeReLU()\n",
      "    (5): TrNorm()\n",
      "  )\n",
      ")\n",
      "Total number of trainable parameters: 1184\n"
     ]
    }
   ],
   "execution_count": 44
  },
  {
   "metadata": {},
   "cell_type": "markdown",
   "source": "### 4D lattice",
   "id": "89a2181232e9f3fb"
  },
  {
   "metadata": {
    "ExecuteTime": {
     "end_time": "2025-03-15T11:08:30.509206Z",
     "start_time": "2025-03-15T11:08:30.503089Z"
    }
   },
   "cell_type": "code",
   "source": [
    "L = 4 # Lattice size\n",
    "dims = [L, L, L, L] # Dimensions of the lattice\n",
    "hidden_sizes = [5, 5] # Hidden layer sizes. Number of output channels (Wilson loops and links) per lattice site.\n",
    "kernel_size = 2 # Kernel size or range for convolution, which means the maximum size of Wilson loop.\n",
    "out_channels = len(dims) # Number of output channels (Wilson loops and links) per lattice site.\n",
    "\n",
    "su2_gauge_equivariant_model_4d = lge.LgeConvNet(\n",
    "    dims=dims,\n",
    "    hidden_sizes=hidden_sizes,\n",
    "    kernel_size=kernel_size,\n",
    "    out_channels=out_channels,\n",
    "    group=su2_group,\n",
    "    gauge_invariant=False,\n",
    "    use_norm=True,\n",
    "    use_act_fn=True,\n",
    "    threshold=1e-6\n",
    ").to(device)"
   ],
   "id": "e1f815e405d373bb",
   "outputs": [],
   "execution_count": 45
  },
  {
   "metadata": {},
   "cell_type": "markdown",
   "source": "Check the model's structure",
   "id": "6a95672f81ce7b37"
  },
  {
   "metadata": {
    "ExecuteTime": {
     "end_time": "2025-03-15T11:08:30.517446Z",
     "start_time": "2025-03-15T11:08:30.510209Z"
    }
   },
   "cell_type": "code",
   "source": "lge.check_model(su2_gauge_equivariant_model_4d)",
   "id": "aff8173189be30c4",
   "outputs": [
    {
     "name": "stdout",
     "output_type": "stream",
     "text": [
      "LgeConvNet(\n",
      "  (group): SU2Group(\n",
      "    (algebra): SU2LieAlgebra()\n",
      "  )\n",
      "  (plaquette_layer): Plaquette(\n",
      "    (group): SU2Group(\n",
      "      (algebra): SU2LieAlgebra()\n",
      "    )\n",
      "  )\n",
      "  (input_conv): LConvBilin()\n",
      "  (after_input): Sequential(\n",
      "    (0): LgeReLU()\n",
      "    (1): TrNorm()\n",
      "  )\n",
      "  (hidden_block): Sequential(\n",
      "    (0): LConvBilin()\n",
      "    (1): LgeReLU()\n",
      "    (2): TrNorm()\n",
      "    (3): LConvBilin()\n",
      "    (4): LgeReLU()\n",
      "    (5): TrNorm()\n",
      "  )\n",
      ")\n",
      "Total number of trainable parameters: 1702\n"
     ]
    }
   ],
   "execution_count": 46
  },
  {
   "metadata": {},
   "cell_type": "markdown",
   "source": "### Gauge invariant model with using the trace of the Wilson loop.",
   "id": "6952007c8999be1b"
  },
  {
   "metadata": {
    "ExecuteTime": {
     "end_time": "2025-03-15T11:08:32.485492Z",
     "start_time": "2025-03-15T11:08:32.479810Z"
    }
   },
   "cell_type": "code",
   "source": [
    "su2_gauge_invariant_model_4d = lge.LgeConvNet(\n",
    "    dims=dims,\n",
    "    hidden_sizes=hidden_sizes,\n",
    "    kernel_size=kernel_size,\n",
    "    out_channels=out_channels,\n",
    "    group=su2_group,\n",
    "    gauge_invariant=True,\n",
    "    use_norm=True,\n",
    "    use_act_fn=True,\n",
    "    threshold=1e-6\n",
    ").to(device)"
   ],
   "id": "fcd4ad35f72c97d",
   "outputs": [],
   "execution_count": 47
  },
  {
   "metadata": {},
   "cell_type": "markdown",
   "source": "Check the model's structure",
   "id": "6a393480facb8890"
  },
  {
   "metadata": {
    "ExecuteTime": {
     "end_time": "2025-03-15T11:08:34.464118Z",
     "start_time": "2025-03-15T11:08:34.460072Z"
    }
   },
   "cell_type": "code",
   "source": "lge.check_model(su2_gauge_invariant_model_4d)",
   "id": "f2f16bd74cba8661",
   "outputs": [
    {
     "name": "stdout",
     "output_type": "stream",
     "text": [
      "LgeConvNet(\n",
      "  (group): SU2Group(\n",
      "    (algebra): SU2LieAlgebra()\n",
      "  )\n",
      "  (plaquette_layer): Plaquette(\n",
      "    (group): SU2Group(\n",
      "      (algebra): SU2LieAlgebra()\n",
      "    )\n",
      "  )\n",
      "  (input_conv): LConvBilin()\n",
      "  (after_input): Sequential(\n",
      "    (0): LgeReLU()\n",
      "    (1): TrNorm()\n",
      "  )\n",
      "  (hidden_block): Sequential(\n",
      "    (0): LConvBilin()\n",
      "    (1): LgeReLU()\n",
      "    (2): TrNorm()\n",
      "    (3): LConvBilin()\n",
      "    (4): LgeReLU()\n",
      "    (5): TrNorm()\n",
      "    (6): LTrace()\n",
      "  )\n",
      ")\n",
      "Total number of trainable parameters: 1702\n"
     ]
    }
   ],
   "execution_count": 48
  },
  {
   "metadata": {},
   "cell_type": "markdown",
   "source": "### Baseline model",
   "id": "2bf7277dcebcdb70"
  },
  {
   "metadata": {
    "ExecuteTime": {
     "end_time": "2025-03-15T11:08:36.463266Z",
     "start_time": "2025-03-15T11:08:36.456844Z"
    }
   },
   "cell_type": "code",
   "source": [
    "class BaselineModel(torch.nn.Module):\n",
    "    def __init__(self, channels):\n",
    "        super(BaselineModel, self).__init__()\n",
    "        self.mlp1 = torch.nn.Linear(channels, 3)\n",
    "        self.mlp2 = torch.nn.Linear(3, channels)\n",
    "        self.relu = torch.nn.ReLU()\n",
    "\n",
    "    def forward(self, x):\n",
    "        shape = tuple(x.shape)\n",
    "        x = torch.flatten(x, start_dim=1)\n",
    "        x = self.mlp1(x)\n",
    "        x = self.relu(x)\n",
    "        x = self.mlp2(x)\n",
    "        x = x.view(*shape)\n",
    "        return x\n",
    "\n",
    "baseline_model = BaselineModel(channels=np.prod(dims)*len(dims)*su2_rep_dim*su2_rep_dim*2).to(device)\n",
    "\n",
    "lge.check_model(baseline_model)"
   ],
   "id": "b727071b843c9a09",
   "outputs": [
    {
     "name": "stdout",
     "output_type": "stream",
     "text": [
      "BaselineModel(\n",
      "  (mlp1): Linear(in_features=8192, out_features=3, bias=True)\n",
      "  (mlp2): Linear(in_features=3, out_features=8192, bias=True)\n",
      "  (relu): ReLU()\n",
      ")\n",
      "Total number of trainable parameters: 57347\n"
     ]
    }
   ],
   "execution_count": 49
  },
  {
   "metadata": {},
   "cell_type": "markdown",
   "source": "## Initialize the gauge link",
   "id": "a592086654caf4df"
  },
  {
   "metadata": {
    "ExecuteTime": {
     "end_time": "2025-03-15T11:08:38.507104Z",
     "start_time": "2025-03-15T11:08:38.464591Z"
    }
   },
   "cell_type": "code",
   "source": [
    "batch_size = 10\n",
    "dim = len(dims) # Number of dimensions\n",
    "num_spacial_points = np.prod(dims) # Number of spacial points\n",
    "sample_size = batch_size * num_spacial_points * dim\n",
    "link = su2_group.random_element(\n",
    "    sample_size=sample_size,\n",
    "    apply_map=True, # Apply the exponential map.\n",
    ")\n",
    "print(f\"link shape: {link.shape}\")\n",
    "print(f'Check is unitary: {su2_group.is_unitary(link)}')\n",
    "\n",
    "# Reshape the link to the desired shape. The shape should be (batch_size, num_spacial_points, dim, u1_rep_dim, u1_rep_dim).\n",
    "link = link.view(batch_size, num_spacial_points, dim, su2_rep_dim, su2_rep_dim)\n",
    "print(f\"link shape: {link.shape}\")\n",
    "print(f'Check is unitary: {su2_group.is_unitary(link)}')\n",
    "print(f'check is determinant 1: {su2_group.is_determinant_one(link)}')"
   ],
   "id": "d2e6b40f96ceb211",
   "outputs": [
    {
     "name": "stdout",
     "output_type": "stream",
     "text": [
      "link shape: torch.Size([10240, 2, 2])\n",
      "Check is unitary: True\n",
      "link shape: torch.Size([10, 256, 4, 2, 2])\n",
      "Check is unitary: True\n",
      "check is determinant 1: True\n"
     ]
    }
   ],
   "execution_count": 50
  },
  {
   "metadata": {},
   "cell_type": "markdown",
   "source": "Check the type of link",
   "id": "741079b503cd010a"
  },
  {
   "metadata": {
    "ExecuteTime": {
     "end_time": "2025-03-15T11:08:40.553839Z",
     "start_time": "2025-03-15T11:08:40.549537Z"
    }
   },
   "cell_type": "code",
   "source": "print(f'Link type: {link.type()}')",
   "id": "15a0020b9b2fbdb1",
   "outputs": [
    {
     "name": "stdout",
     "output_type": "stream",
     "text": [
      "Link type: torch.cuda.ComplexFloatTensor\n"
     ]
    }
   ],
   "execution_count": 51
  },
  {
   "metadata": {},
   "cell_type": "markdown",
   "source": "The input to the lattice gauge equivariant model should be a real tensor",
   "id": "e3faebb9220c549"
  },
  {
   "metadata": {
    "ExecuteTime": {
     "end_time": "2025-03-15T11:08:42.611594Z",
     "start_time": "2025-03-15T11:08:42.607282Z"
    }
   },
   "cell_type": "code",
   "source": [
    "link_real = su2_group.convert_to_real(link)\n",
    "print(f'Link real type: {link_real.type()}')\n",
    "print(f'Link real shape: {link_real.shape}')"
   ],
   "id": "5d99cc8d98a5e6ba",
   "outputs": [
    {
     "name": "stdout",
     "output_type": "stream",
     "text": [
      "Link real type: torch.cuda.FloatTensor\n",
      "Link real shape: torch.Size([10, 256, 4, 2, 2, 2])\n"
     ]
    }
   ],
   "execution_count": 52
  },
  {
   "metadata": {},
   "cell_type": "markdown",
   "source": "## Apply the gauge transformation",
   "id": "5f2c00a68244c623"
  },
  {
   "metadata": {},
   "cell_type": "markdown",
   "source": "### Global gauge transformation",
   "id": "af70661e2b07ed6d"
  },
  {
   "metadata": {
    "ExecuteTime": {
     "end_time": "2025-03-15T11:08:44.715156Z",
     "start_time": "2025-03-15T11:08:44.711322Z"
    }
   },
   "cell_type": "code",
   "source": [
    "left_act = su2_group.left_action_on_Cn\n",
    "right_act = su2_group.right_action_on_Cn"
   ],
   "id": "adadf4dd06feeefa",
   "outputs": [],
   "execution_count": 53
  },
  {
   "metadata": {},
   "cell_type": "markdown",
   "source": "Choose a random element from the group",
   "id": "4559c0d35a92f717"
  },
  {
   "metadata": {
    "ExecuteTime": {
     "end_time": "2025-03-15T11:08:46.801406Z",
     "start_time": "2025-03-15T11:08:46.793991Z"
    }
   },
   "cell_type": "code",
   "source": [
    "global_g = su2_group.random_element().to(device)\n",
    "print(f'Random element shape: {global_g.shape}')\n",
    "print(f'Check is unitary: {su2_group.is_unitary(global_g)}')\n",
    "print(f'check is determinant 1: {su2_group.is_determinant_one(global_g)}')"
   ],
   "id": "d064af809b8ba22a",
   "outputs": [
    {
     "name": "stdout",
     "output_type": "stream",
     "text": [
      "Random element shape: torch.Size([1, 2, 2])\n",
      "Check is unitary: True\n",
      "check is determinant 1: True\n"
     ]
    }
   ],
   "execution_count": 54
  },
  {
   "metadata": {},
   "cell_type": "markdown",
   "source": [
    "Left action of the group element on the link.\n",
    "$g \\cdot link$."
   ],
   "id": "1cf19d974e796686"
  },
  {
   "metadata": {
    "ExecuteTime": {
     "end_time": "2025-03-15T11:08:50.774647Z",
     "start_time": "2025-03-15T11:08:50.770579Z"
    }
   },
   "cell_type": "code",
   "source": [
    "global_g_link = left_act(global_g, link)\n",
    "print(f'g_link shape: {global_g_link.shape}')"
   ],
   "id": "10a32ef3d208f120",
   "outputs": [
    {
     "name": "stdout",
     "output_type": "stream",
     "text": [
      "g_link shape: torch.Size([10, 256, 4, 2, 2])\n"
     ]
    }
   ],
   "execution_count": 55
  },
  {
   "metadata": {},
   "cell_type": "markdown",
   "source": [
    "Because the group is not abelian, do the right action of the group element on the $g \\cdot link$ should not return the original link.\n",
    "\n",
    "<br>$g \\cdot link \\cdot g^{-1} \\neq link$"
   ],
   "id": "49fded01454a7ba1"
  },
  {
   "metadata": {
    "ExecuteTime": {
     "end_time": "2025-03-15T11:08:50.783991Z",
     "start_time": "2025-03-15T11:08:50.774647Z"
    }
   },
   "cell_type": "code",
   "source": [
    "global_g_link_g_inv = right_act(global_g, global_g_link)\n",
    "print(torch.allclose(link, global_g_link_g_inv))"
   ],
   "id": "564dcc4347403f72",
   "outputs": [
    {
     "name": "stdout",
     "output_type": "stream",
     "text": [
      "False\n"
     ]
    }
   ],
   "execution_count": 56
  },
  {
   "metadata": {},
   "cell_type": "markdown",
   "source": [
    "And the way to apply the gauge transformation on gauge link is\n",
    "\n",
    "<br> $g(x) \\cdot link(x)_{\\mu} \\cdot g^{-1}(x+\\hat{\\mu})$\n",
    "\n",
    "<br>We can use the function `gauge_trans_to_gauge_link` to apply the gauge transformation on gauge link."
   ],
   "id": "81582d62c1c628eb"
  },
  {
   "metadata": {
    "ExecuteTime": {
     "end_time": "2025-03-15T11:08:52.799742Z",
     "start_time": "2025-03-15T11:08:52.792227Z"
    }
   },
   "cell_type": "code",
   "source": [
    "global_g_link_g_inv_ = lge.gauge_trans_to_gauge_link(\n",
    "    u=link,\n",
    "    global_group_element=global_g,\n",
    "    local_group_elements=None,\n",
    "    dims=None\n",
    ")\n",
    "# The output should be the same\n",
    "print(torch.allclose(global_g_link_g_inv, global_g_link_g_inv_))"
   ],
   "id": "ed6ca70d76a8bcbf",
   "outputs": [
    {
     "name": "stdout",
     "output_type": "stream",
     "text": [
      "True\n"
     ]
    }
   ],
   "execution_count": 57
  },
  {
   "metadata": {},
   "cell_type": "markdown",
   "source": "We can use the function `gauge_trans_to_wilson_loop` to apply the gauge transformation on closed loop.",
   "id": "1c81cbafc65ce285"
  },
  {
   "metadata": {
    "ExecuteTime": {
     "end_time": "2025-03-15T11:08:55.026987Z",
     "start_time": "2025-03-15T11:08:55.012571Z"
    }
   },
   "cell_type": "code",
   "source": [
    "w = lge.generate_wilson_loops(dims=dims, u=link, group=su2_group)\n",
    "print(f'Wilson loops shape: {w.shape}')\n",
    "\n",
    "global_g_w_g_inv = lge.gauge_trans_to_wilson_loop(\n",
    "    w=w,\n",
    "    global_group_element=global_g,\n",
    "    local_group_elements=None\n",
    ")\n",
    "print(f'Global g*w*g_inv shape: {global_g_w_g_inv.shape}')"
   ],
   "id": "f9d187f2122f4282",
   "outputs": [
    {
     "name": "stdout",
     "output_type": "stream",
     "text": [
      "Wilson loops shape: torch.Size([10, 256, 6, 2, 2])\n",
      "Global g*w*g_inv shape: torch.Size([10, 256, 6, 2, 2])\n"
     ]
    }
   ],
   "execution_count": 58
  },
  {
   "metadata": {},
   "cell_type": "markdown",
   "source": "### Local gauge transformation",
   "id": "a39b04081d41dd9b"
  },
  {
   "metadata": {},
   "cell_type": "markdown",
   "source": "Choose random elements from the group for each spacial point.",
   "id": "a232e1678779cff6"
  },
  {
   "metadata": {
    "ExecuteTime": {
     "end_time": "2025-03-15T11:08:57.192646Z",
     "start_time": "2025-03-15T11:08:57.183023Z"
    }
   },
   "cell_type": "code",
   "source": [
    "spacial_points = batch_size * num_spacial_points\n",
    "local_g = su2_group.random_element(sample_size=spacial_points, apply_map=True).to(device)\n",
    "print(f'Random element shape: {local_g.shape}')\n",
    "local_g = local_g.view(batch_size, num_spacial_points, 1, su2_rep_dim, su2_rep_dim)\n",
    "print(f'Random element shape: {local_g.shape}')"
   ],
   "id": "ac4ca0f500b9cf35",
   "outputs": [
    {
     "name": "stdout",
     "output_type": "stream",
     "text": [
      "Random element shape: torch.Size([2560, 2, 2])\n",
      "Random element shape: torch.Size([10, 256, 1, 2, 2])\n"
     ]
    }
   ],
   "execution_count": 59
  },
  {
   "metadata": {},
   "cell_type": "markdown",
   "source": "$g(x) \\cdot W(x)$",
   "id": "42ae152daeea4ced"
  },
  {
   "metadata": {
    "ExecuteTime": {
     "end_time": "2025-03-15T11:08:59.317075Z",
     "start_time": "2025-03-15T11:08:59.301767Z"
    }
   },
   "cell_type": "code",
   "source": [
    "w = lge.generate_wilson_loops(dims=dims, u=link, group=su2_group)\n",
    "print(f'Wilson loops shape: {w.shape}')\n",
    "\n",
    "local_g_w = left_act(local_g, w)\n",
    "print(f'local_g_w shape: {local_g_w.shape}')"
   ],
   "id": "6324cef88265799e",
   "outputs": [
    {
     "name": "stdout",
     "output_type": "stream",
     "text": [
      "Wilson loops shape: torch.Size([10, 256, 6, 2, 2])\n",
      "local_g_w shape: torch.Size([10, 256, 6, 2, 2])\n"
     ]
    }
   ],
   "execution_count": 60
  },
  {
   "metadata": {},
   "cell_type": "markdown",
   "source": [
    "Non-abelian group\n",
    "\n",
    "<br>$g(x) \\cdot W(x) \\cdot g^{-1}(x) \\neq W(x)$"
   ],
   "id": "509d6805111c4347"
  },
  {
   "metadata": {
    "ExecuteTime": {
     "end_time": "2025-03-15T11:09:01.488367Z",
     "start_time": "2025-03-15T11:09:01.482716Z"
    }
   },
   "cell_type": "code",
   "source": [
    "local_g_w_g_inv = right_act(local_g, local_g_w)\n",
    "print(torch.allclose(w, local_g_w_g_inv))"
   ],
   "id": "bde3dcbf1eb0fcd2",
   "outputs": [
    {
     "name": "stdout",
     "output_type": "stream",
     "text": [
      "False\n"
     ]
    }
   ],
   "execution_count": 61
  },
  {
   "metadata": {},
   "cell_type": "markdown",
   "source": "We can use the function `gauge_trans_to_wilson_loop` to apply the gauge transformation on closed loop.",
   "id": "e8a9b3c17363aca8"
  },
  {
   "metadata": {
    "ExecuteTime": {
     "end_time": "2025-03-15T11:09:03.637673Z",
     "start_time": "2025-03-15T11:09:03.630184Z"
    }
   },
   "cell_type": "code",
   "source": [
    "local_g_w_g_inv_ = lge.gauge_trans_to_wilson_loop(\n",
    "    w=w,\n",
    "    global_group_element=None,\n",
    "    local_group_elements=local_g,\n",
    ")\n",
    "print(f'Local g*w*g_inv shape: {local_g_w_g_inv.shape}')\n",
    "\n",
    "# The output should be the same\n",
    "print(torch.allclose(local_g_w_g_inv, local_g_w_g_inv_))"
   ],
   "id": "102dbc13089bdfb9",
   "outputs": [
    {
     "name": "stdout",
     "output_type": "stream",
     "text": [
      "Local g*w*g_inv shape: torch.Size([10, 256, 6, 2, 2])\n",
      "True\n"
     ]
    }
   ],
   "execution_count": 62
  },
  {
   "metadata": {},
   "cell_type": "markdown",
   "source": [
    "And the way to apply the local gauge transformation on gauge link is\n",
    "\n",
    "<br> $g(x) \\cdot link(x)_{\\mu} \\cdot g^{-1}(x+\\hat{\\mu})$\n",
    "\n",
    "<br> We can use the function `gauge_trans_to_gauge_link` to apply the gauge transformation on gauge link."
   ],
   "id": "633e43d3a98ec5d"
  },
  {
   "metadata": {
    "ExecuteTime": {
     "end_time": "2025-03-15T11:09:05.709748Z",
     "start_time": "2025-03-15T11:09:05.703713Z"
    }
   },
   "cell_type": "code",
   "source": [
    "local_g_link_g_inv = lge.gauge_trans_to_gauge_link(\n",
    "    u=link,\n",
    "    global_group_element=None,\n",
    "    local_group_elements=local_g,\n",
    "    dims=dims\n",
    ")\n",
    "print(f'Local g*link*g_inv shape: {local_g_link_g_inv.shape}')"
   ],
   "id": "f3994e89120b3c5a",
   "outputs": [
    {
     "name": "stdout",
     "output_type": "stream",
     "text": [
      "Local g*link*g_inv shape: torch.Size([10, 256, 4, 2, 2])\n"
     ]
    }
   ],
   "execution_count": 63
  },
  {
   "metadata": {},
   "cell_type": "markdown",
   "source": "### Gauge transformation with both global and local elements",
   "id": "a13b2e955c8e7065"
  },
  {
   "metadata": {
    "ExecuteTime": {
     "end_time": "2025-03-15T11:09:09.801755Z",
     "start_time": "2025-03-15T11:09:09.797129Z"
    }
   },
   "cell_type": "code",
   "source": [
    "g_w_g_inv = lge.gauge_trans_to_wilson_loop(\n",
    "    w=w,\n",
    "    global_group_element=global_g,\n",
    "    local_group_elements=local_g,\n",
    ")\n",
    "print(f'g*w*g_inv shape: {g_w_g_inv.shape}')"
   ],
   "id": "dd52840faeb2c1ff",
   "outputs": [
    {
     "name": "stdout",
     "output_type": "stream",
     "text": [
      "g*w*g_inv shape: torch.Size([10, 256, 6, 2, 2])\n"
     ]
    }
   ],
   "execution_count": 64
  },
  {
   "metadata": {
    "ExecuteTime": {
     "end_time": "2025-03-15T11:09:09.813493Z",
     "start_time": "2025-03-15T11:09:09.801755Z"
    }
   },
   "cell_type": "code",
   "source": [
    "g_link_g_inv = lge.gauge_trans_to_gauge_link(\n",
    "    u=link,\n",
    "    global_group_element=global_g,\n",
    "    local_group_elements=local_g,\n",
    "    dims=dims\n",
    ")\n",
    "print(f'g*link*g_inv shape: {g_link_g_inv.shape}')"
   ],
   "id": "6210021f5331c917",
   "outputs": [
    {
     "name": "stdout",
     "output_type": "stream",
     "text": [
      "g*link*g_inv shape: torch.Size([10, 256, 4, 2, 2])\n"
     ]
    }
   ],
   "execution_count": 65
  },
  {
   "metadata": {},
   "cell_type": "markdown",
   "source": "## Check gauge equivariance and invariance",
   "id": "8c03f166c213c309"
  },
  {
   "metadata": {},
   "cell_type": "markdown",
   "source": [
    "The group action on operators like the gauge link is defined as:\n",
    "\n",
    "<br> $\\mathcal{L}_{g(x), \\mu} \\cdot \\hat{\\mathcal{O}}_{\\mu} \\equiv g(x) \\cdot \\hat{\\mathcal{O}}_{\\mu} \\cdot g^{-1}(x+\\hat{\\mu})$\n",
    "\n",
    "<br>The group action on operators like the Wilson loop is defined as:\n",
    "\n",
    "<br> $\\mathcal{L}_{g(x)} \\cdot W(x) \\equiv g(x) \\cdot W(x) \\cdot g^{-1}(x)$\n",
    "\n",
    "<br> The global gauge equivariance of the model is defined as:\n",
    "\n",
    "<br> $\\mathcal{L}_{g} \\cdot Model\\left(link_{\\mu}\\right) =  Model\\left(\\mathcal{L}_{g, \\mu} \\cdot link_{\\mu}\\right)$\n",
    "\n",
    "<br> Where $g$ is a global group element.\n",
    "\n",
    "<br> The global gauge invariance of the model is defined as:\n",
    "\n",
    "<br> $Model\\left(link_{\\mu}\\right) =  Model\\left(\\mathcal{L}_{g,\\mu} \\cdot link_{\\mu}\\right)$\n",
    "\n",
    "<br>The local gauge equivariance of the model is defined as:\n",
    "\n",
    "<br> $\\mathcal{L}_{g(x)} \\cdot Model\\left(link(x)_{\\mu}\\right) =  Model\\left(\\mathcal{L}_{g(x),\\mu} \\cdot link(x)_{\\mu}\\right)$\n",
    "\n",
    "<br> The local gauge invariance of the model is defined as:\n",
    "\n",
    "<br> $Model\\left(link(x)_{\\mu}\\right) =  Model\\left(\\mathcal{L}_{g(x),\\mu} \\cdot link(x)_{\\mu}\\right)$"
   ],
   "id": "abeddfa812de0340"
  },
  {
   "metadata": {},
   "cell_type": "markdown",
   "source": "### Check global gauge equivariance",
   "id": "bbcd8176e6dff4e6"
  },
  {
   "metadata": {},
   "cell_type": "markdown",
   "source": "The Wilson loop is always invariant under a global gauge transformation, and is always gauge equivalent when didn't trace the Wilson loop.",
   "id": "95067981ae6946a4"
  },
  {
   "metadata": {
    "ExecuteTime": {
     "end_time": "2025-03-15T11:09:11.951580Z",
     "start_time": "2025-03-15T11:09:11.939804Z"
    }
   },
   "cell_type": "code",
   "source": [
    "link = su2_group.random_element(sample_size=sample_size).view(batch_size, num_spacial_points, dim, su2_rep_dim, su2_rep_dim)\n",
    "link_real = su2_group.convert_to_real(link)\n",
    "global_g = su2_group.random_element().to(device)\n",
    "global_g_link = su2_group.left_action_on_Cn(global_g, link)\n",
    "global_g_link_g_inv = right_act(global_g, global_g_link)\n",
    "print(f'Global g*link*g_inv shape: {global_g_link_g_inv.shape}')"
   ],
   "id": "87dd810018bdfa11",
   "outputs": [
    {
     "name": "stdout",
     "output_type": "stream",
     "text": [
      "Global g*link*g_inv shape: torch.Size([10, 256, 4, 2, 2])\n"
     ]
    }
   ],
   "execution_count": 66
  },
  {
   "metadata": {},
   "cell_type": "markdown",
   "source": "Convert the tensor to real type for the model",
   "id": "189cce696afdb2ab"
  },
  {
   "metadata": {
    "ExecuteTime": {
     "end_time": "2025-03-15T11:09:14.068369Z",
     "start_time": "2025-03-15T11:09:14.063830Z"
    }
   },
   "cell_type": "code",
   "source": [
    "global_g_link_g_inv_real = su2_group.convert_to_real(global_g_link_g_inv)\n",
    "print(f'Global g*link*g_inv real shape: {global_g_link_g_inv_real.shape}')"
   ],
   "id": "bfa7276335c4439d",
   "outputs": [
    {
     "name": "stdout",
     "output_type": "stream",
     "text": [
      "Global g*link*g_inv real shape: torch.Size([10, 256, 4, 2, 2, 2])\n"
     ]
    }
   ],
   "execution_count": 67
  },
  {
   "metadata": {},
   "cell_type": "markdown",
   "source": [
    "Apply the model to the link and the transformed link.\n",
    "\n",
    "<br>$Model \\left(g \\cdot link \\cdot g^{-1} \\right)$\n",
    "\n",
    "<br>$Model \\left( link \\right)$"
   ],
   "id": "1152ddf5e4398c14"
  },
  {
   "metadata": {
    "ExecuteTime": {
     "end_time": "2025-03-15T11:09:16.305360Z",
     "start_time": "2025-03-15T11:09:16.144752Z"
    }
   },
   "cell_type": "code",
   "source": [
    "model_global_g_link_g_inv = su2_gauge_equivariant_model_4d(global_g_link_g_inv_real)\n",
    "baseline_model_global_g_link_g_inv = baseline_model(global_g_link_g_inv_real)\n",
    "\n",
    "model_link = su2_gauge_equivariant_model_4d(link_real)\n",
    "baseline_model_link = baseline_model(link_real)\n",
    "\n",
    "print('Lattice gauge equivariant model: ')\n",
    "print(f'Model(g*link*g_inv) shape: {model_global_g_link_g_inv.shape}')\n",
    "print(f'Model(link) shape: {model_link.shape}')\n",
    "print('='*100)\n",
    "print('Baseline model: ')\n",
    "print(f'Model(g*link*g_inv) shape: {baseline_model_global_g_link_g_inv.shape}')\n",
    "print(f'Model(link) shape: {baseline_model_link.shape}')"
   ],
   "id": "9ad02d8f9c4154",
   "outputs": [
    {
     "name": "stdout",
     "output_type": "stream",
     "text": [
      "Lattice gauge equivariant model: \n",
      "Model(g*link*g_inv) shape: torch.Size([10, 256, 4, 2, 2, 2])\n",
      "Model(link) shape: torch.Size([10, 256, 4, 2, 2, 2])\n",
      "====================================================================================================\n",
      "Baseline model: \n",
      "Model(g*link*g_inv) shape: torch.Size([10, 256, 4, 2, 2, 2])\n",
      "Model(link) shape: torch.Size([10, 256, 4, 2, 2, 2])\n"
     ]
    }
   ],
   "execution_count": 68
  },
  {
   "metadata": {},
   "cell_type": "markdown",
   "source": [
    "Convert the output to complex type and compute\n",
    "\n",
    "<br>$g \\cdot Model(link) \\cdot g^{-1}$"
   ],
   "id": "3073c38012b4b713"
  },
  {
   "metadata": {
    "ExecuteTime": {
     "end_time": "2025-03-15T11:09:18.161073Z",
     "start_time": "2025-03-15T11:09:18.154634Z"
    }
   },
   "cell_type": "code",
   "source": [
    "model_global_g_link_g_inv = su2_group.convert_to_complex(model_global_g_link_g_inv)\n",
    "baseline_model_global_g_link_g_inv = su2_group.convert_to_complex(baseline_model_global_g_link_g_inv)\n",
    "\n",
    "model_link = su2_group.convert_to_complex(model_link)\n",
    "baseline_model_link = su2_group.convert_to_complex(baseline_model_link)\n",
    "\n",
    "global_g_model_link_g_inv = right_act(global_g, left_act(global_g, model_link))\n",
    "baseline_global_g_model_link_g_inv = right_act(global_g, left_act(global_g, baseline_model_link))\n",
    "\n",
    "print('Lattice gauge equivariant model: ')\n",
    "print(f'Model(g*link*g_inv) shape: {model_global_g_link_g_inv.shape}')\n",
    "print(f'Model(link) shape: {model_link.shape}')\n",
    "print('='*100)\n",
    "print('Baseline model: ')\n",
    "print(f'Model(g*link*g_inv) shape: {baseline_model_global_g_link_g_inv.shape}')\n",
    "print(f'Model(link) shape: {baseline_model_link.shape}')"
   ],
   "id": "b2ac3734536e2b4d",
   "outputs": [
    {
     "name": "stdout",
     "output_type": "stream",
     "text": [
      "Lattice gauge equivariant model: \n",
      "Model(g*link*g_inv) shape: torch.Size([10, 256, 4, 2, 2])\n",
      "Model(link) shape: torch.Size([10, 256, 4, 2, 2])\n",
      "====================================================================================================\n",
      "Baseline model: \n",
      "Model(g*link*g_inv) shape: torch.Size([10, 256, 4, 2, 2])\n",
      "Model(link) shape: torch.Size([10, 256, 4, 2, 2])\n"
     ]
    }
   ],
   "execution_count": 69
  },
  {
   "metadata": {},
   "cell_type": "markdown",
   "source": [
    "#### Check the equivariance\n",
    "<br> $g \\cdot Model \\left( link \\right) \\cdot g^{-1} = Model \\left( g \\cdot link \\cdot g^{-1} \\right)$\n",
    "\n",
    "<br> But due to the numerical precision, the equality may not hold exactly.\n",
    "\n",
    "<br> We can check the difference between the two outputs.\n",
    "\n",
    "<br> $||g \\cdot Model \\left( link \\right) \\cdot g^{-1} - Model \\left( g \\cdot link \\cdot g^{-1} \\right)|| = \\epsilon$"
   ],
   "id": "ef1a1ba7471e1a87"
  },
  {
   "metadata": {
    "ExecuteTime": {
     "end_time": "2025-03-15T11:09:20.068323Z",
     "start_time": "2025-03-15T11:09:20.060087Z"
    }
   },
   "cell_type": "code",
   "source": [
    "print('Lattice gauge equivariant model: ')\n",
    "print(torch.allclose(global_g_model_link_g_inv, model_global_g_link_g_inv, atol=1e-3))\n",
    "print('Error :', torch.norm(global_g_model_link_g_inv - model_global_g_link_g_inv).item())\n",
    "print('='*100)\n",
    "print('Baseline model: ')\n",
    "print(torch.allclose(baseline_global_g_model_link_g_inv, baseline_model_global_g_link_g_inv, atol=1e-3))\n",
    "print('Error :', torch.norm(baseline_global_g_model_link_g_inv - baseline_model_global_g_link_g_inv).item())"
   ],
   "id": "8d7b82ca45b80060",
   "outputs": [
    {
     "name": "stdout",
     "output_type": "stream",
     "text": [
      "Lattice gauge equivariant model: \n",
      "True\n",
      "Error : 0.00039339708746410906\n",
      "====================================================================================================\n",
      "Baseline model: \n",
      "False\n",
      "Error : 67.69098663330078\n"
     ]
    }
   ],
   "execution_count": 70
  },
  {
   "metadata": {},
   "cell_type": "markdown",
   "source": "### Check global gauge invariance",
   "id": "4779ec6b39d10eb5"
  },
  {
   "metadata": {},
   "cell_type": "markdown",
   "source": [
    "Apply the invariant model to the link and the transformed link.\n",
    "\n",
    "<br>$Model \\left(g \\cdot link \\cdot g^{-1} \\right)$\n",
    "\n",
    "<br>$Model \\left( link \\right)$"
   ],
   "id": "3cb3f08fd16a070e"
  },
  {
   "metadata": {
    "ExecuteTime": {
     "end_time": "2025-03-15T11:09:22.292443Z",
     "start_time": "2025-03-15T11:09:22.134672Z"
    }
   },
   "cell_type": "code",
   "source": [
    "invariant_model_global_g_link_g_inv = su2_gauge_invariant_model_4d(global_g_link_g_inv_real)\n",
    "baseline_global_g_model_link_g_inv = baseline_model(global_g_link_g_inv_real)\n",
    "\n",
    "invariant_model_link = su2_gauge_invariant_model_4d(link_real)\n",
    "baseline_model_link = baseline_model(link_real)\n",
    "\n",
    "print('Lattice gauge invariant model: ')\n",
    "print(f'Invariant model(g*link*g_inv) shape: {invariant_model_global_g_link_g_inv.shape}')\n",
    "print(f'Invariant model(link) shape: {invariant_model_link.shape}')\n",
    "print('='*100)\n",
    "print('Baseline model: ')\n",
    "print(f'Baseline model(g*link*g_inv) shape: {baseline_global_g_model_link_g_inv.shape}')\n",
    "print(f'Baseline model(link) shape: {baseline_model_link.shape}')"
   ],
   "id": "d5f28a26b410e59",
   "outputs": [
    {
     "name": "stdout",
     "output_type": "stream",
     "text": [
      "Lattice gauge invariant model: \n",
      "Invariant model(g*link*g_inv) shape: torch.Size([10, 256, 4, 2])\n",
      "Invariant model(link) shape: torch.Size([10, 256, 4, 2])\n",
      "====================================================================================================\n",
      "Baseline model: \n",
      "Baseline model(g*link*g_inv) shape: torch.Size([10, 256, 4, 2, 2, 2])\n",
      "Baseline model(link) shape: torch.Size([10, 256, 4, 2, 2, 2])\n"
     ]
    }
   ],
   "execution_count": 71
  },
  {
   "metadata": {},
   "cell_type": "markdown",
   "source": [
    "#### Check the invariance\n",
    "<br> $Model \\left( link \\right) = Model \\left( g \\cdot link \\cdot g^{-1} \\right)$\n",
    "\n",
    "<br> But due to the numerical precision, the equality may not hold exactly.\n",
    "\n",
    "<br> We can check the difference between the two outputs.\n",
    "\n",
    "<br> $||Model \\left( link \\right) - Model \\left( g \\cdot link \\cdot g^{-1} \\right)|| = \\epsilon$"
   ],
   "id": "adf1efdbc845b0bb"
  },
  {
   "metadata": {
    "ExecuteTime": {
     "end_time": "2025-03-15T11:09:26.212946Z",
     "start_time": "2025-03-15T11:09:26.203077Z"
    }
   },
   "cell_type": "code",
   "source": [
    "print('Lattice gauge invariant model: ')\n",
    "print(torch.allclose(invariant_model_link, invariant_model_global_g_link_g_inv, atol=1e-3))\n",
    "print('Error:', torch.norm(invariant_model_link - invariant_model_global_g_link_g_inv).item())\n",
    "print('='*100)\n",
    "print('Baseline model: ')\n",
    "print(torch.allclose(baseline_model_link, baseline_global_g_model_link_g_inv, atol=1e-3))\n",
    "print('Error:', torch.norm(baseline_model_link - baseline_global_g_model_link_g_inv).item())"
   ],
   "id": "6df60dd42fa15937",
   "outputs": [
    {
     "name": "stdout",
     "output_type": "stream",
     "text": [
      "Lattice gauge invariant model: \n",
      "True\n",
      "Error: 0.0002274117578053847\n",
      "====================================================================================================\n",
      "Baseline model: \n",
      "False\n",
      "Error: 14.020371437072754\n"
     ]
    }
   ],
   "execution_count": 72
  },
  {
   "metadata": {},
   "cell_type": "markdown",
   "source": "### Check local gauge equivariance",
   "id": "57b04be378018973"
  },
  {
   "metadata": {},
   "cell_type": "markdown",
   "source": "The Wilson loop is always invariant under a local gauge transformation, and is always local gauge equivalent when didn't trace the Wilson loop.",
   "id": "c815aa3e36eccdba"
  },
  {
   "metadata": {
    "ExecuteTime": {
     "end_time": "2025-03-15T11:09:26.236658Z",
     "start_time": "2025-03-15T11:09:26.217824Z"
    }
   },
   "cell_type": "code",
   "source": [
    "link = su2_group.random_element(sample_size=sample_size).view(batch_size, num_spacial_points, dim, su2_rep_dim, su2_rep_dim)\n",
    "link_real = su2_group.convert_to_real(link)\n",
    "local_g = su2_group.random_element(sample_size=spacial_points).view(batch_size, num_spacial_points, 1, su2_rep_dim, su2_rep_dim).to(device)\n",
    "local_g_link_g_inv = lge.gauge_trans_to_gauge_link(\n",
    "    u=link,\n",
    "    global_group_element=None,\n",
    "    local_group_elements=local_g,\n",
    "    dims=dims\n",
    ")\n",
    "print(f'Local g*link*g_inv shape: {local_g_link_g_inv.shape}')"
   ],
   "id": "6bfc8ced535b8825",
   "outputs": [
    {
     "name": "stdout",
     "output_type": "stream",
     "text": [
      "Local g*link*g_inv shape: torch.Size([10, 256, 4, 2, 2])\n"
     ]
    }
   ],
   "execution_count": 73
  },
  {
   "metadata": {},
   "cell_type": "markdown",
   "source": "Convert the tensor to real type for the model",
   "id": "35b6a4258b9cd81b"
  },
  {
   "metadata": {
    "ExecuteTime": {
     "end_time": "2025-03-15T11:09:28.311120Z",
     "start_time": "2025-03-15T11:09:28.307975Z"
    }
   },
   "cell_type": "code",
   "source": [
    "local_g_link_g_inv_real = su2_group.convert_to_real(local_g_link_g_inv)\n",
    "print(f'Local g*link*g_inv real shape: {local_g_link_g_inv_real.shape}')"
   ],
   "id": "efe3daa93d550b6d",
   "outputs": [
    {
     "name": "stdout",
     "output_type": "stream",
     "text": [
      "Local g*link*g_inv real shape: torch.Size([10, 256, 4, 2, 2, 2])\n"
     ]
    }
   ],
   "execution_count": 74
  },
  {
   "metadata": {},
   "cell_type": "markdown",
   "source": [
    "Apply the model to the link and the transformed link.\n",
    "\n",
    "<br>$Model \\left( g(x) \\cdot link(x)_{\\mu} \\cdot g^{-1}(x+\\hat{\\mu}) \\right)$\n",
    "\n",
    "<br>$Model \\left( link(x) \\right)$"
   ],
   "id": "828f77ce200958f4"
  },
  {
   "metadata": {
    "ExecuteTime": {
     "end_time": "2025-03-15T11:09:30.643627Z",
     "start_time": "2025-03-15T11:09:30.399984Z"
    }
   },
   "cell_type": "code",
   "source": [
    "model_local_g_link_g_inv = su2_gauge_equivariant_model_4d(local_g_link_g_inv_real)\n",
    "baseline_model_local_g_link_g_inv = baseline_model(local_g_link_g_inv_real)\n",
    "\n",
    "model_link = su2_gauge_equivariant_model_4d(link_real)\n",
    "baseline_model_link = baseline_model(link_real)\n",
    "\n",
    "print('Lattice gauge equivariant model: ')\n",
    "print(f'Model(g*link*g_inv) shape: {model_local_g_link_g_inv.shape}')\n",
    "print(f'Model(link) shape: {model_link.shape}')\n",
    "print('='*100)\n",
    "print('Baseline model: ')\n",
    "print(f'Model(g*link*g_inv) shape: {baseline_model_local_g_link_g_inv.shape}')\n",
    "print(f'Model(link) shape: {baseline_model_link.shape}')"
   ],
   "id": "d127796bf22ff8d4",
   "outputs": [
    {
     "name": "stdout",
     "output_type": "stream",
     "text": [
      "Lattice gauge equivariant model: \n",
      "Model(g*link*g_inv) shape: torch.Size([10, 256, 4, 2, 2, 2])\n",
      "Model(link) shape: torch.Size([10, 256, 4, 2, 2, 2])\n",
      "====================================================================================================\n",
      "Baseline model: \n",
      "Model(g*link*g_inv) shape: torch.Size([10, 256, 4, 2, 2, 2])\n",
      "Model(link) shape: torch.Size([10, 256, 4, 2, 2, 2])\n"
     ]
    }
   ],
   "execution_count": 75
  },
  {
   "metadata": {},
   "cell_type": "markdown",
   "source": [
    "Convert the output to complex type and compute\n",
    "\n",
    "<br>$g(x) \\cdot Model \\left( link(x) \\right) \\cdot g^{-1}(x)$"
   ],
   "id": "1631eaea3aa3e75d"
  },
  {
   "metadata": {
    "ExecuteTime": {
     "end_time": "2025-03-15T11:09:32.547955Z",
     "start_time": "2025-03-15T11:09:32.541791Z"
    }
   },
   "cell_type": "code",
   "source": [
    "model_local_g_link_g_inv = su2_group.convert_to_complex(model_local_g_link_g_inv)\n",
    "baseline_model_local_g_link_g_inv = su2_group.convert_to_complex(baseline_model_local_g_link_g_inv)\n",
    "\n",
    "model_link = su2_group.convert_to_complex(model_link)\n",
    "baseline_model_link = su2_group.convert_to_complex(baseline_model_link)\n",
    "\n",
    "local_g_model_link_g_inv = lge.gauge_trans_to_wilson_loop(\n",
    "    w=model_link,\n",
    "    global_group_element=None,\n",
    "    local_group_elements=local_g,\n",
    ")\n",
    "baseline_local_g_model_link_g_inv = lge.gauge_trans_to_wilson_loop(\n",
    "    w=baseline_model_link,\n",
    "    global_group_element=None,\n",
    "    local_group_elements=local_g,\n",
    ")\n",
    "\n",
    "print('Lattice gauge equivariant model: ')\n",
    "print(f'Model(g*link*g_inv) shape: {model_local_g_link_g_inv.shape}')\n",
    "print(f'Model(link) shape: {model_link.shape}')\n",
    "print(f'Local g*Model(link)*g_inv shape: {local_g_model_link_g_inv.shape}')\n",
    "print('='*100)\n",
    "print('Baseline model: ')\n",
    "print(f'Model(g*link*g_inv) shape: {baseline_model_local_g_link_g_inv.shape}')\n",
    "print(f'Model(link) shape: {baseline_model_link.shape}')\n",
    "print(f'Local g*Model(link)*g_inv shape: {baseline_local_g_model_link_g_inv.shape}')"
   ],
   "id": "dfd0105b74ad5306",
   "outputs": [
    {
     "name": "stdout",
     "output_type": "stream",
     "text": [
      "Lattice gauge equivariant model: \n",
      "Model(g*link*g_inv) shape: torch.Size([10, 256, 4, 2, 2])\n",
      "Model(link) shape: torch.Size([10, 256, 4, 2, 2])\n",
      "Local g*Model(link)*g_inv shape: torch.Size([10, 256, 4, 2, 2])\n",
      "====================================================================================================\n",
      "Baseline model: \n",
      "Model(g*link*g_inv) shape: torch.Size([10, 256, 4, 2, 2])\n",
      "Model(link) shape: torch.Size([10, 256, 4, 2, 2])\n",
      "Local g*Model(link)*g_inv shape: torch.Size([10, 256, 4, 2, 2])\n"
     ]
    }
   ],
   "execution_count": 76
  },
  {
   "metadata": {},
   "cell_type": "markdown",
   "source": [
    "#### Check the equivariance\n",
    "<br> $g(x) \\cdot Model \\left( link(x)_{\\mu} \\right) \\cdot g^{-1}(x+\\hat{\\mu}) = Model \\left( g(x) \\cdot link(x)_{\\mu} \\cdot g^{-1}(x+\\hat{\\mu}) \\right)$\n",
    "\n",
    "<br> But due to the numerical precision, the equality may not hold exactly.\n",
    "\n",
    "<br> We can check the difference between the two outputs.\n",
    "\n",
    "<br> $||g(x) \\cdot Model \\left( link(x)_{\\mu} \\right) \\cdot g^{-1}(x+\\hat{\\mu}) - Model \\left( g(x) \\cdot link(x)_{\\mu} \\cdot g^{-1}(x+\\hat{\\mu}) \\right)|| = \\epsilon$"
   ],
   "id": "ba2acd79ed1a7217"
  },
  {
   "metadata": {
    "ExecuteTime": {
     "end_time": "2025-03-15T11:09:36.509156Z",
     "start_time": "2025-03-15T11:09:36.502227Z"
    }
   },
   "cell_type": "code",
   "source": [
    "print('Lattice gauge equivariant model: ')\n",
    "print(torch.allclose(local_g_model_link_g_inv, model_local_g_link_g_inv, atol=1e-3))\n",
    "print('Error :', torch.norm(local_g_model_link_g_inv - model_local_g_link_g_inv).item())\n",
    "print('='*100)\n",
    "print('Baseline model: ')\n",
    "print(torch.allclose(baseline_local_g_model_link_g_inv, baseline_model_local_g_link_g_inv, atol=1e-3))\n",
    "print('Error :', torch.norm(baseline_local_g_model_link_g_inv - baseline_model_local_g_link_g_inv).item())"
   ],
   "id": "ad80db48ba71b2f3",
   "outputs": [
    {
     "name": "stdout",
     "output_type": "stream",
     "text": [
      "Lattice gauge equivariant model: \n",
      "True\n",
      "Error : 0.0005367920966818929\n",
      "====================================================================================================\n",
      "Baseline model: \n",
      "False\n",
      "Error : 70.31221008300781\n"
     ]
    }
   ],
   "execution_count": 77
  },
  {
   "metadata": {},
   "cell_type": "markdown",
   "source": "And the trace of the Wilson loop should be invariant under a local gauge transformation.",
   "id": "6c67f4ab6e192189"
  },
  {
   "metadata": {
    "ExecuteTime": {
     "end_time": "2025-03-15T11:09:36.519271Z",
     "start_time": "2025-03-15T11:09:36.512104Z"
    }
   },
   "cell_type": "code",
   "source": [
    "tr_local_g_model_link_g_inv = torch.einsum('bndii->bnd', local_g_model_link_g_inv)\n",
    "tr_model_local_g_link_g_inv = torch.einsum('bndii->bnd', model_local_g_link_g_inv)\n",
    "print(torch.norm(tr_local_g_model_link_g_inv - tr_model_local_g_link_g_inv))"
   ],
   "id": "263fd237f55506d4",
   "outputs": [
    {
     "name": "stdout",
     "output_type": "stream",
     "text": [
      "tensor(0.0003, device='cuda:0', grad_fn=<LinalgVectorNormBackward0>)\n"
     ]
    }
   ],
   "execution_count": 78
  },
  {
   "metadata": {},
   "cell_type": "markdown",
   "source": "### Local gauge invariance",
   "id": "ae422a00851ea6a9"
  },
  {
   "metadata": {},
   "cell_type": "markdown",
   "source": [
    "Apply the invariant model to the link and the transformed link.\n",
    "\n",
    "<br>$Model \\left( g(x) \\cdot link(x)_{\\mu} \\cdot g^{-1}(x+\\hat{\\mu}) \\right)$\n",
    "\n",
    "<br>$Model \\left( link(x)_{\\mu} \\right)$"
   ],
   "id": "b0b4134e8458d5c9"
  },
  {
   "metadata": {
    "ExecuteTime": {
     "end_time": "2025-03-15T11:09:38.802971Z",
     "start_time": "2025-03-15T11:09:38.625094Z"
    }
   },
   "cell_type": "code",
   "source": [
    "invariant_model_local_g_link_g_inv = su2_gauge_invariant_model_4d(local_g_link_g_inv_real)\n",
    "baseline_model_local_g_link_g_inv = baseline_model(local_g_link_g_inv_real)\n",
    "\n",
    "invariant_model_link = su2_gauge_invariant_model_4d(link_real)\n",
    "baseline_model_link = baseline_model(link_real)\n",
    "\n",
    "print('Lattice gauge invariant model: ')\n",
    "print(f'Invariant model(g*link*g_inv) shape: {invariant_model_local_g_link_g_inv.shape}')\n",
    "print(f'Invariant model(link) shape: {invariant_model_link.shape}')\n",
    "print('='*100)\n",
    "print('Baseline model: ')\n",
    "print(f'Baseline model(g*link*g_inv) shape: {baseline_model_local_g_link_g_inv.shape}')\n",
    "print(f'Baseline model(link) shape: {baseline_model_link.shape}')"
   ],
   "id": "c9e1788add967419",
   "outputs": [
    {
     "name": "stdout",
     "output_type": "stream",
     "text": [
      "Lattice gauge invariant model: \n",
      "Invariant model(g*link*g_inv) shape: torch.Size([10, 256, 4, 2])\n",
      "Invariant model(link) shape: torch.Size([10, 256, 4, 2])\n",
      "====================================================================================================\n",
      "Baseline model: \n",
      "Baseline model(g*link*g_inv) shape: torch.Size([10, 256, 4, 2, 2, 2])\n",
      "Baseline model(link) shape: torch.Size([10, 256, 4, 2, 2, 2])\n"
     ]
    }
   ],
   "execution_count": 79
  },
  {
   "metadata": {},
   "cell_type": "markdown",
   "source": [
    "#### Check the invariance\n",
    "<br> $Model \\left( link(x) \\right) = Model \\left( g(x) \\cdot link(x)_{\\mu} \\cdot g^{-1}(x+\\hat{\\mu}) \\right)$\n",
    "\n",
    "<br> But due to the numerical precision, the equality may not hold exactly.\n",
    "\n",
    "<br> We can check the difference between the two outputs.\n",
    "\n",
    "<br> $||Model \\left( link(x) \\right) - Model \\left( g(x) \\cdot link(x)_{\\mu} \\cdot g^{-1}(x+\\hat{\\mu}) \\right)|| = \\epsilon$"
   ],
   "id": "c04ca8c90423e0a4"
  },
  {
   "metadata": {
    "ExecuteTime": {
     "end_time": "2025-03-15T11:09:40.894536Z",
     "start_time": "2025-03-15T11:09:40.887222Z"
    }
   },
   "cell_type": "code",
   "source": [
    "print('Lattice gauge invariant model: ')\n",
    "print(torch.allclose(invariant_model_link, invariant_model_local_g_link_g_inv, atol=1e-3))\n",
    "print('Error:', torch.norm(invariant_model_link - invariant_model_local_g_link_g_inv).item())\n",
    "print('='*100)\n",
    "print('Baseline model: ')\n",
    "print(torch.allclose(baseline_model_link, baseline_model_local_g_link_g_inv, atol=1e-3))\n",
    "print('Error:', torch.norm(baseline_model_link - baseline_model_local_g_link_g_inv).item())"
   ],
   "id": "887d55642e0d8f67",
   "outputs": [
    {
     "name": "stdout",
     "output_type": "stream",
     "text": [
      "Lattice gauge invariant model: \n",
      "True\n",
      "Error: 0.00035227451007813215\n",
      "====================================================================================================\n",
      "Baseline model: \n",
      "False\n",
      "Error: 23.86435317993164\n"
     ]
    }
   ],
   "execution_count": 80
  }
 ],
 "metadata": {
  "kernelspec": {
   "display_name": "Python 3",
   "language": "python",
   "name": "python3"
  },
  "language_info": {
   "codemirror_mode": {
    "name": "ipython",
    "version": 2
   },
   "file_extension": ".py",
   "mimetype": "text/x-python",
   "name": "python",
   "nbconvert_exporter": "python",
   "pygments_lexer": "ipython2",
   "version": "2.7.6"
  }
 },
 "nbformat": 4,
 "nbformat_minor": 5
}
