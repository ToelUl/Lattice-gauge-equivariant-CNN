{
 "cells": [
  {
   "cell_type": "code",
   "id": "initial_id",
   "metadata": {
    "collapsed": true,
    "ExecuteTime": {
     "end_time": "2025-03-13T18:42:33.332266Z",
     "start_time": "2025-03-13T18:42:31.788085Z"
    }
   },
   "source": [
    "import numpy as np\n",
    "import torch\n",
    "import lge\n",
    "\n",
    "device = torch.device(\"cuda\" if torch.cuda.is_available() else \"cpu\")\n",
    "print(f\"Using device: {device}\")"
   ],
   "outputs": [
    {
     "name": "stdout",
     "output_type": "stream",
     "text": [
      "Using device: cuda\n"
     ]
    }
   ],
   "execution_count": 1
  },
  {
   "metadata": {},
   "cell_type": "markdown",
   "source": "# U(1) group equivariant model",
   "id": "624e039565fa84b4"
  },
  {
   "metadata": {},
   "cell_type": "markdown",
   "source": "## Initialize the group",
   "id": "567624a407d6c459"
  },
  {
   "metadata": {
    "ExecuteTime": {
     "end_time": "2025-03-13T18:42:33.411708Z",
     "start_time": "2025-03-13T18:42:33.356279Z"
    }
   },
   "cell_type": "code",
   "source": [
    "u1_group = lge.U1Group()\n",
    "u1_rep_dim = u1_group.rep_dim\n",
    "lie_algebra = u1_group.algebra\n",
    "print(f\"U(1) representation dimension: {u1_rep_dim}\")\n",
    "print(f\"U(1) Lie algebra dimension: {lie_algebra.lie_alg_dim}\")\n",
    "print(f'Generator of U(1) Lie algebra : {lie_algebra.generator}')\n",
    "print(f'Identity element of U(1) group: {u1_group.identity}')"
   ],
   "id": "564fed7d3332f559",
   "outputs": [
    {
     "name": "stdout",
     "output_type": "stream",
     "text": [
      "U(1) representation dimension: 1\n",
      "U(1) Lie algebra dimension: 1\n",
      "Generator of U(1) Lie algebra : 1j\n",
      "Identity element of U(1) group: tensor([[1.+0.j]])\n"
     ]
    }
   ],
   "execution_count": 2
  },
  {
   "metadata": {},
   "cell_type": "markdown",
   "source": "## Initialize the equivariant neural network",
   "id": "7bbabda45efd3d83"
  },
  {
   "metadata": {},
   "cell_type": "markdown",
   "source": "### 2D lattice",
   "id": "3fd17c411edfdf09"
  },
  {
   "metadata": {
    "ExecuteTime": {
     "end_time": "2025-03-13T18:42:33.810296Z",
     "start_time": "2025-03-13T18:42:33.696271Z"
    }
   },
   "cell_type": "code",
   "source": [
    "L = 4 # Lattice size\n",
    "dims = [L, L] # Dimensions of the lattice\n",
    "hidden_sizes = [5, 5] # Hidden layer sizes. Number of output channels (Wilson loops and links) per lattice site.\n",
    "kernel_size = 2 # Kernel size or range for convolution, which means the maximum size of Wilson loop.\n",
    "out_channels = 2 # Number of output channels (Wilson loops and links) per lattice site.\n",
    "\n",
    "u1_gauge_equivariant_model_2d = lge.LgeConvNet(\n",
    "    dims=dims,\n",
    "    hidden_sizes=hidden_sizes,\n",
    "    kernel_size=kernel_size,\n",
    "    out_channels=out_channels,\n",
    "    group=u1_group,\n",
    "    gauge_invariant=False,\n",
    "    use_norm=True,\n",
    "    use_act_fn=True,\n",
    "    threshold=1e-6\n",
    ").to(device)"
   ],
   "id": "fde21104a82316b8",
   "outputs": [],
   "execution_count": 3
  },
  {
   "metadata": {},
   "cell_type": "markdown",
   "source": "Check the model's structure",
   "id": "6047951588611fd5"
  },
  {
   "metadata": {
    "ExecuteTime": {
     "end_time": "2025-03-13T18:42:33.841381Z",
     "start_time": "2025-03-13T18:42:33.827817Z"
    }
   },
   "cell_type": "code",
   "source": "lge.check_model(u1_gauge_equivariant_model_2d)",
   "id": "f33f1768bbf2bef7",
   "outputs": [
    {
     "name": "stdout",
     "output_type": "stream",
     "text": [
      "LgeConvNet(\n",
      "  (group): U1Group(\n",
      "    (algebra): U1LieAlgebra()\n",
      "  )\n",
      "  (plaquette_layer): Plaquette(\n",
      "    (group): U1Group(\n",
      "      (algebra): U1LieAlgebra()\n",
      "    )\n",
      "  )\n",
      "  (input_conv): LConvBilin()\n",
      "  (after_input): Sequential(\n",
      "    (0): LgeReLU()\n",
      "    (1): TrNorm()\n",
      "  )\n",
      "  (hidden_block): Sequential(\n",
      "    (0): LConvBilin()\n",
      "    (1): LgeReLU()\n",
      "    (2): TrNorm()\n",
      "    (3): LConvBilin()\n",
      "    (4): LgeReLU()\n",
      "    (5): TrNorm()\n",
      "  )\n",
      ")\n",
      "Total number of trainable parameters: 1184\n"
     ]
    }
   ],
   "execution_count": 4
  },
  {
   "metadata": {},
   "cell_type": "markdown",
   "source": "### 4D lattice",
   "id": "64ab94c5e80759ea"
  },
  {
   "metadata": {
    "ExecuteTime": {
     "end_time": "2025-03-13T18:42:33.872070Z",
     "start_time": "2025-03-13T18:42:33.857940Z"
    }
   },
   "cell_type": "code",
   "source": [
    "L = 4 # Lattice size\n",
    "dims = [L, L, L, L] # Dimensions of the lattice\n",
    "hidden_sizes = [5, 5] # Hidden layer sizes. Number of output channels (Wilson loops and links) per lattice site.\n",
    "kernel_size = 2 # Kernel size or range for convolution, which means the maximum size of Wilson loop.\n",
    "out_channels = 4 # Number of output channels (Wilson loops and links) per lattice site.\n",
    "\n",
    "u1_gauge_equivariant_model_4d = lge.LgeConvNet(\n",
    "    dims=dims,\n",
    "    hidden_sizes=hidden_sizes,\n",
    "    kernel_size=kernel_size,\n",
    "    out_channels=out_channels,\n",
    "    group=u1_group,\n",
    "    gauge_invariant=False,\n",
    "    use_norm=True,\n",
    "    use_act_fn=True,\n",
    "    threshold=1e-6\n",
    ").to(device)"
   ],
   "id": "f1046f5671f6219",
   "outputs": [],
   "execution_count": 5
  },
  {
   "metadata": {},
   "cell_type": "markdown",
   "source": "Check the model's structure",
   "id": "91b60b8f962b4fde"
  },
  {
   "metadata": {
    "ExecuteTime": {
     "end_time": "2025-03-13T18:42:33.902727Z",
     "start_time": "2025-03-13T18:42:33.889349Z"
    }
   },
   "cell_type": "code",
   "source": "lge.check_model(u1_gauge_equivariant_model_4d)",
   "id": "46949df6fb4f4fb8",
   "outputs": [
    {
     "name": "stdout",
     "output_type": "stream",
     "text": [
      "LgeConvNet(\n",
      "  (group): U1Group(\n",
      "    (algebra): U1LieAlgebra()\n",
      "  )\n",
      "  (plaquette_layer): Plaquette(\n",
      "    (group): U1Group(\n",
      "      (algebra): U1LieAlgebra()\n",
      "    )\n",
      "  )\n",
      "  (input_conv): LConvBilin()\n",
      "  (after_input): Sequential(\n",
      "    (0): LgeReLU()\n",
      "    (1): TrNorm()\n",
      "  )\n",
      "  (hidden_block): Sequential(\n",
      "    (0): LConvBilin()\n",
      "    (1): LgeReLU()\n",
      "    (2): TrNorm()\n",
      "    (3): LConvBilin()\n",
      "    (4): LgeReLU()\n",
      "    (5): TrNorm()\n",
      "  )\n",
      ")\n",
      "Total number of trainable parameters: 1702\n"
     ]
    }
   ],
   "execution_count": 6
  },
  {
   "metadata": {},
   "cell_type": "markdown",
   "source": "## Initialize the configuration",
   "id": "374cd4aa73e3f3c0"
  },
  {
   "metadata": {
    "ExecuteTime": {
     "end_time": "2025-03-13T18:42:36.451625Z",
     "start_time": "2025-03-13T18:42:33.919834Z"
    }
   },
   "cell_type": "code",
   "source": [
    "batch_size = 10\n",
    "dim = len(dims) # Number of dimensions\n",
    "num_spacial_points = np.prod(dims) # Number of spacial points\n",
    "sample_size = batch_size * num_spacial_points * dim\n",
    "link = u1_group.random_element(\n",
    "    sample_size=sample_size,\n",
    "    apply_map=True, # Apply the exponential map.\n",
    ")\n",
    "print(f\"link shape: {link.shape}\")\n",
    "print(f'Check is unitary: {u1_group.is_unitary(link)}')\n",
    "\n",
    "# Reshape the link to the desired shape. The shape should be (batch_size, num_spacial_points, dim, u1_rep_dim, u1_rep_dim).\n",
    "link = link.view(batch_size, num_spacial_points, dim, u1_rep_dim, u1_rep_dim)\n",
    "print(f\"link shape: {link.shape}\")\n",
    "print(f'Check is unitary: {u1_group.is_unitary(link)}')"
   ],
   "id": "e5da53b31b1686a1",
   "outputs": [
    {
     "name": "stdout",
     "output_type": "stream",
     "text": [
      "link shape: torch.Size([10240, 1, 1])\n",
      "Check is unitary: True\n",
      "link shape: torch.Size([10, 256, 4, 1, 1])\n",
      "Check is unitary: True\n"
     ]
    }
   ],
   "execution_count": 7
  },
  {
   "metadata": {},
   "cell_type": "markdown",
   "source": "Check the type of link",
   "id": "95beb6c4f62e10d"
  },
  {
   "metadata": {
    "ExecuteTime": {
     "end_time": "2025-03-13T18:42:36.502823Z",
     "start_time": "2025-03-13T18:42:36.493119Z"
    }
   },
   "cell_type": "code",
   "source": "print(f'Link type: {link.type()}')",
   "id": "5a68987699396ce7",
   "outputs": [
    {
     "name": "stdout",
     "output_type": "stream",
     "text": [
      "Link type: torch.cuda.ComplexFloatTensor\n"
     ]
    }
   ],
   "execution_count": 8
  },
  {
   "metadata": {},
   "cell_type": "markdown",
   "source": "The input to the lattice gauge equivariant model should be a real tensor",
   "id": "17dc595e15b1e6e5"
  },
  {
   "metadata": {
    "ExecuteTime": {
     "end_time": "2025-03-13T18:42:36.573465Z",
     "start_time": "2025-03-13T18:42:36.563025Z"
    }
   },
   "cell_type": "code",
   "source": [
    "link_real = u1_group.convert_to_real(link)\n",
    "print(f'Link real type: {link_real.type()}')\n",
    "print(f'Link real shape: {link_real.shape}')"
   ],
   "id": "633696cf8f334863",
   "outputs": [
    {
     "name": "stdout",
     "output_type": "stream",
     "text": [
      "Link real type: torch.cuda.FloatTensor\n",
      "Link real shape: torch.Size([10, 256, 4, 1, 1, 2])\n"
     ]
    }
   ],
   "execution_count": 9
  },
  {
   "metadata": {},
   "cell_type": "markdown",
   "source": "## Apply the gauge transformation",
   "id": "3510079767dc491d"
  },
  {
   "metadata": {},
   "cell_type": "markdown",
   "source": "### Global gauge transformation",
   "id": "ab9e2be17553af13"
  },
  {
   "metadata": {},
   "cell_type": "markdown",
   "source": "Choose a random element from the group",
   "id": "98fd731249e61038"
  },
  {
   "metadata": {
    "ExecuteTime": {
     "end_time": "2025-03-13T18:42:36.594190Z",
     "start_time": "2025-03-13T18:42:36.583696Z"
    }
   },
   "cell_type": "code",
   "source": [
    "global_g = u1_group.random_element().to(device)\n",
    "print(f'Random element shape: {global_g.shape}')"
   ],
   "id": "69ee1581e3e675d6",
   "outputs": [
    {
     "name": "stdout",
     "output_type": "stream",
     "text": [
      "Random element shape: torch.Size([1, 1, 1])\n"
     ]
    }
   ],
   "execution_count": 10
  },
  {
   "metadata": {},
   "cell_type": "markdown",
   "source": [
    "Left action of the group element on the link.\n",
    "$g \\cdot link$."
   ],
   "id": "cacc541de9d9d069"
  },
  {
   "metadata": {
    "ExecuteTime": {
     "end_time": "2025-03-13T18:42:36.721418Z",
     "start_time": "2025-03-13T18:42:36.711196Z"
    }
   },
   "cell_type": "code",
   "source": [
    "global_g_link = u1_group.left_action_on_Cn(global_g, link)\n",
    "print(f'g_link shape: {global_g_link.shape}')"
   ],
   "id": "e79cd29e017f159f",
   "outputs": [
    {
     "name": "stdout",
     "output_type": "stream",
     "text": [
      "g_link shape: torch.Size([10, 256, 4, 1, 1])\n"
     ]
    }
   ],
   "execution_count": 11
  },
  {
   "metadata": {},
   "cell_type": "markdown",
   "source": [
    "Because the group is abelian, do the right action of the group element on the $g \\cdot link$ should return the original link.\n",
    "<br>$g \\cdot link \\cdot g^{-1} = link \\cdot g \\cdot g^{-1} = link$"
   ],
   "id": "354d9ac959e46fd8"
  },
  {
   "metadata": {
    "ExecuteTime": {
     "end_time": "2025-03-13T18:42:36.741987Z",
     "start_time": "2025-03-13T18:42:36.733912Z"
    }
   },
   "cell_type": "code",
   "source": [
    "global_g_link_g_inv = u1_group.right_action_on_Cn(global_g, global_g_link)\n",
    "print(torch.allclose(link, global_g_link_g_inv))"
   ],
   "id": "d6ac769540aa0603",
   "outputs": [
    {
     "name": "stdout",
     "output_type": "stream",
     "text": [
      "True\n"
     ]
    }
   ],
   "execution_count": 12
  },
  {
   "metadata": {},
   "cell_type": "markdown",
   "source": "### Local gauge transformation",
   "id": "22b228c7c8822b72"
  },
  {
   "metadata": {},
   "cell_type": "markdown",
   "source": "Choose random elements from the group for each spacial point.",
   "id": "a8b382d94e73a6f"
  },
  {
   "metadata": {
    "ExecuteTime": {
     "end_time": "2025-03-13T18:42:36.850713Z",
     "start_time": "2025-03-13T18:42:36.844126Z"
    }
   },
   "cell_type": "code",
   "source": [
    "local_g = u1_group.random_element(sample_size=sample_size, apply_map=True).to(device)\n",
    "print(f'Random element shape: {local_g.shape}')\n",
    "local_g = local_g.view(batch_size, num_spacial_points, dim, u1_rep_dim, u1_rep_dim)\n",
    "print(f'Random element shape: {local_g.shape}')"
   ],
   "id": "c58da79d46ea9047",
   "outputs": [
    {
     "name": "stdout",
     "output_type": "stream",
     "text": [
      "Random element shape: torch.Size([10240, 1, 1])\n",
      "Random element shape: torch.Size([10, 256, 4, 1, 1])\n"
     ]
    }
   ],
   "execution_count": 13
  },
  {
   "metadata": {},
   "cell_type": "markdown",
   "source": "$g(x) \\cdot link(x)$",
   "id": "e8db79bf90a4c02f"
  },
  {
   "metadata": {
    "ExecuteTime": {
     "end_time": "2025-03-13T18:42:36.979280Z",
     "start_time": "2025-03-13T18:42:36.973406Z"
    }
   },
   "cell_type": "code",
   "source": [
    "local_g_link = u1_group.left_action_on_Cn(local_g, link)\n",
    "print(f'local_g_link shape: {local_g_link.shape}')"
   ],
   "id": "1b5f858954698b51",
   "outputs": [
    {
     "name": "stdout",
     "output_type": "stream",
     "text": [
      "local_g_link shape: torch.Size([10, 256, 4, 1, 1])\n"
     ]
    }
   ],
   "execution_count": 14
  },
  {
   "metadata": {},
   "cell_type": "markdown",
   "source": "$g(x) \\cdot link(x) \\cdot g^{-1}(x) = link(x) \\cdot g(x) \\cdot g^{-1}(x) = link(x)$",
   "id": "9d52922e3ac5ea5e"
  },
  {
   "metadata": {
    "ExecuteTime": {
     "end_time": "2025-03-13T18:42:37.146096Z",
     "start_time": "2025-03-13T18:42:37.131973Z"
    }
   },
   "cell_type": "code",
   "source": [
    "local_g_link_g_inv = u1_group.right_action_on_Cn(local_g, local_g_link)\n",
    "print(torch.allclose(link, local_g_link_g_inv))"
   ],
   "id": "3530342f5c03f28a",
   "outputs": [
    {
     "name": "stdout",
     "output_type": "stream",
     "text": [
      "True\n"
     ]
    }
   ],
   "execution_count": 15
  },
  {
   "metadata": {},
   "cell_type": "markdown",
   "source": "## Check gauge equivariance",
   "id": "236427796758a818"
  },
  {
   "metadata": {},
   "cell_type": "markdown",
   "source": [
    "Because the U(1) group is abelian, thus, when applying the group element to the link, the output should always be the same.\n",
    "\n",
    "<br> That is, because the group action on operators like gauge field is defined as:\n",
    "\n",
    "<br> $\\mathcal{L}_{g} \\cdot \\hat{\\mathcal{O}} \\equiv g \\cdot \\hat{\\mathcal{O}} \\cdot g^{-1} $\n",
    "\n",
    "<br> where $\\hat{\\mathcal{O}}$ is the operator, $g$ is the group element, and $\\mathcal{L}_{g}$ is the left action of the group element on the operator.\n",
    "\n",
    "<br> And we have already checked that the left action of the group element on the operator should return the same operator for the U(1) group.\n",
    "\n",
    "<br> $\\mathcal{L}_{g} \\cdot \\hat{\\mathcal{O}} = g \\cdot \\hat{\\mathcal{O}} \\cdot g^{-1} = \\hat{\\mathcal{O}} \\cdot g \\cdot g^{-1} = \\hat{\\mathcal{O}}$\n",
    "\n",
    "<br> Therefore, the output of the model should be the same for the original link and the transformed link. The equivariance condition is always satisfied for the U(1) group.\n",
    "\n",
    "<br> Also, because the representation of the U(1) group is one-dimensional, so we don't need to trace the Wilson loop to check the gauge invariance. The Wilson loop is always gauge invariant for the U(1) group.\n",
    "\n",
    "<br> $\\mathcal{L}_{g(x)} \\cdot Model\\left(link(x)\\right) =  Model\\left(\\mathcal{L}_{g(x)} \\cdot link(x)\\right) = Model\\left(link(x)\\right)$"
   ],
   "id": "2d53cb200e76d6c"
  },
  {
   "metadata": {},
   "cell_type": "markdown",
   "source": "## Check the global phase invariant",
   "id": "7bcf8798ea98f3c5"
  },
  {
   "metadata": {},
   "cell_type": "markdown",
   "source": "The Wilson loop is always invariant under a global phase transformation.",
   "id": "47dc658d01c68db4"
  },
  {
   "metadata": {
    "ExecuteTime": {
     "end_time": "2025-03-13T18:42:37.333791Z",
     "start_time": "2025-03-13T18:42:37.319296Z"
    }
   },
   "cell_type": "code",
   "source": [
    "link = u1_group.random_element(sample_size=sample_size).view(batch_size, num_spacial_points, dim, u1_rep_dim, u1_rep_dim)\n",
    "link_real = u1_group.convert_to_real(link)\n",
    "global_g = u1_group.random_element().to(device)\n",
    "global_g_link = u1_group.left_action_on_Cn(global_g, link)"
   ],
   "id": "c4d9236870bfc002",
   "outputs": [],
   "execution_count": 16
  },
  {
   "metadata": {},
   "cell_type": "markdown",
   "source": "Convert the link to real type",
   "id": "9bfcedd9ccac6a1d"
  },
  {
   "metadata": {
    "ExecuteTime": {
     "end_time": "2025-03-13T18:42:37.514901Z",
     "start_time": "2025-03-13T18:42:37.504571Z"
    }
   },
   "cell_type": "code",
   "source": [
    "global_g_link = u1_group.convert_to_real(global_g_link)\n",
    "print(f'Global g*link real type: {global_g_link.type()}')\n",
    "print(f'Global g*link real shape: {global_g_link.shape}')"
   ],
   "id": "ca0e7ef0f0d474bc",
   "outputs": [
    {
     "name": "stdout",
     "output_type": "stream",
     "text": [
      "Global g*link real type: torch.cuda.FloatTensor\n",
      "Global g*link real shape: torch.Size([10, 256, 4, 1, 1, 2])\n"
     ]
    }
   ],
   "execution_count": 17
  },
  {
   "metadata": {},
   "cell_type": "markdown",
   "source": [
    "Apply the model to the link and the transformed link.\n",
    "<br>$Model \\left(g \\cdot link \\right)$\n",
    "<br>$Model \\left( link \\right)$"
   ],
   "id": "4280ed9f6687e5c8"
  },
  {
   "metadata": {
    "ExecuteTime": {
     "end_time": "2025-03-13T18:42:37.742284Z",
     "start_time": "2025-03-13T18:42:37.684311Z"
    }
   },
   "cell_type": "code",
   "source": [
    "model_global_g_link = u1_gauge_equivariant_model_4d(global_g_link)\n",
    "print(f'Model(g*link) shape: {model_global_g_link.shape}')\n",
    "\n",
    "model_link = u1_gauge_equivariant_model_4d(link_real)\n",
    "print(f'Model(link) shape: {model_link.shape}')"
   ],
   "id": "d36657c29702559",
   "outputs": [
    {
     "name": "stdout",
     "output_type": "stream",
     "text": [
      "Model(g*link) shape: torch.Size([10, 256, 4, 1, 1, 2])\n",
      "Model(link) shape: torch.Size([10, 256, 4, 1, 1, 2])\n"
     ]
    }
   ],
   "execution_count": 18
  },
  {
   "metadata": {},
   "cell_type": "markdown",
   "source": "Convert the output to complex type",
   "id": "d295773dd334e32d"
  },
  {
   "metadata": {
    "ExecuteTime": {
     "end_time": "2025-03-13T18:42:37.976855Z",
     "start_time": "2025-03-13T18:42:37.962089Z"
    }
   },
   "cell_type": "code",
   "source": [
    "model_global_g_link = u1_group.convert_to_complex(model_global_g_link)\n",
    "print(f'Model(g*link) shape: {model_global_g_link.shape}')\n",
    "\n",
    "model_link = u1_group.convert_to_complex(model_link)\n",
    "print(f'Model(link) shape: {model_link.shape}')"
   ],
   "id": "dee14a5ae8bc6435",
   "outputs": [
    {
     "name": "stdout",
     "output_type": "stream",
     "text": [
      "Model(g*link) shape: torch.Size([10, 256, 4, 1, 1])\n",
      "Model(link) shape: torch.Size([10, 256, 4, 1, 1])\n"
     ]
    }
   ],
   "execution_count": 19
  },
  {
   "metadata": {},
   "cell_type": "markdown",
   "source": [
    "Ensure the invariant condition is satisfied\n",
    "<br> $Model \\left( link \\right) = Model \\left( g \\cdot link \\right)$"
   ],
   "id": "675087fd53394eea"
  },
  {
   "metadata": {
    "ExecuteTime": {
     "end_time": "2025-03-13T18:42:38.196888Z",
     "start_time": "2025-03-13T18:42:38.186442Z"
    }
   },
   "cell_type": "code",
   "source": "print(torch.allclose(model_link, model_global_g_link, atol=1e-3))",
   "id": "37cd7215a3ffc9ac",
   "outputs": [
    {
     "name": "stdout",
     "output_type": "stream",
     "text": [
      "True\n"
     ]
    }
   ],
   "execution_count": 20
  },
  {
   "metadata": {},
   "cell_type": "markdown",
   "source": "Local phase transformation",
   "id": "75ba1fcf464c3c00"
  },
  {
   "metadata": {
    "ExecuteTime": {
     "end_time": "2025-03-13T18:42:38.618173Z",
     "start_time": "2025-03-13T18:42:38.610286Z"
    }
   },
   "cell_type": "code",
   "source": [
    "link = u1_group.random_element(sample_size=sample_size).view(batch_size, num_spacial_points, dim, u1_rep_dim, u1_rep_dim)\n",
    "link_real = u1_group.convert_to_real(link)\n",
    "local_g = u1_group.random_element(sample_size=sample_size).view(batch_size, num_spacial_points, dim, u1_rep_dim, u1_rep_dim).to(device)\n",
    "local_g_link = u1_group.left_action_on_Cn(local_g, link)"
   ],
   "id": "2503ed9f2fae14f4",
   "outputs": [],
   "execution_count": 21
  },
  {
   "metadata": {},
   "cell_type": "markdown",
   "source": "Convert the link to real type",
   "id": "f8ea97d2a70b1748"
  },
  {
   "metadata": {
    "ExecuteTime": {
     "end_time": "2025-03-13T18:42:38.636160Z",
     "start_time": "2025-03-13T18:42:38.620206Z"
    }
   },
   "cell_type": "code",
   "source": [
    "local_g_link = u1_group.convert_to_real(local_g_link)\n",
    "print(f'Local g(x)*link real type: {local_g_link.type()}')\n",
    "print(f'Local g(x)*link real shape: {local_g_link.shape}')"
   ],
   "id": "79bd3eacc9ce86c7",
   "outputs": [
    {
     "name": "stdout",
     "output_type": "stream",
     "text": [
      "Local g(x)*link real type: torch.cuda.FloatTensor\n",
      "Local g(x)*link real shape: torch.Size([10, 256, 4, 1, 1, 2])\n"
     ]
    }
   ],
   "execution_count": 22
  },
  {
   "metadata": {},
   "cell_type": "markdown",
   "source": [
    "<br>$Model \\left(g(x) \\cdot link(x) \\right)$\n",
    "<br>$Model \\left(link(x) \\right)$"
   ],
   "id": "de3b2b087aea0e58"
  },
  {
   "metadata": {
    "ExecuteTime": {
     "end_time": "2025-03-13T18:42:38.884607Z",
     "start_time": "2025-03-13T18:42:38.838331Z"
    }
   },
   "cell_type": "code",
   "outputs": [
    {
     "name": "stdout",
     "output_type": "stream",
     "text": [
      "Model(g(x)*link(x)) shape: torch.Size([10, 256, 4, 1, 1, 2])\n",
      "Model(link) shape: torch.Size([10, 256, 4, 1, 1, 2])\n"
     ]
    }
   ],
   "execution_count": 23,
   "source": [
    "model_local_g_link = u1_gauge_equivariant_model_4d(local_g_link)\n",
    "print(f'Model(g(x)*link(x)) shape: {model_local_g_link.shape}')\n",
    "\n",
    "model_link = u1_gauge_equivariant_model_4d(link_real)\n",
    "print(f'Model(link) shape: {model_link.shape}')"
   ],
   "id": "6b6c3b99d0506b96"
  },
  {
   "metadata": {},
   "cell_type": "markdown",
   "source": "Convert the output to complex type",
   "id": "a4d4375d1fea5010"
  },
  {
   "metadata": {
    "ExecuteTime": {
     "end_time": "2025-03-13T18:42:39.121748Z",
     "start_time": "2025-03-13T18:42:39.110022Z"
    }
   },
   "cell_type": "code",
   "outputs": [
    {
     "name": "stdout",
     "output_type": "stream",
     "text": [
      "Model(g(x)*link(x)) shape: torch.Size([10, 256, 4, 1, 1])\n",
      "Model(link) shape: torch.Size([10, 256, 4, 1, 1])\n"
     ]
    }
   ],
   "execution_count": 24,
   "source": [
    "model_local_g_link = u1_group.convert_to_complex(model_local_g_link)\n",
    "print(f'Model(g(x)*link(x)) shape: {model_local_g_link.shape}')\n",
    "\n",
    "model_link = u1_group.convert_to_complex(model_link)\n",
    "print(f'Model(link) shape: {model_link.shape}')"
   ],
   "id": "f164e19f5c57a1f2"
  },
  {
   "metadata": {},
   "cell_type": "markdown",
   "source": [
    "Usually not invariant.\n",
    "<br> $Model \\left( link(x) \\right) \\neq Model \\left( g(x) \\cdot link(x) \\right)$"
   ],
   "id": "6716082e3590e1d3"
  },
  {
   "metadata": {
    "ExecuteTime": {
     "end_time": "2025-03-13T18:42:39.352008Z",
     "start_time": "2025-03-13T18:42:39.337540Z"
    }
   },
   "cell_type": "code",
   "outputs": [
    {
     "name": "stdout",
     "output_type": "stream",
     "text": [
      "False\n"
     ]
    }
   ],
   "execution_count": 25,
   "source": "print(torch.allclose(model_link, model_local_g_link, atol=1e-5))",
   "id": "8ba9830ff26f1038"
  }
 ],
 "metadata": {
  "kernelspec": {
   "display_name": "Python 3",
   "language": "python",
   "name": "python3"
  },
  "language_info": {
   "codemirror_mode": {
    "name": "ipython",
    "version": 2
   },
   "file_extension": ".py",
   "mimetype": "text/x-python",
   "name": "python",
   "nbconvert_exporter": "python",
   "pygments_lexer": "ipython2",
   "version": "2.7.6"
  }
 },
 "nbformat": 4,
 "nbformat_minor": 5
}
