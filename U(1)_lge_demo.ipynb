{
 "cells": [
  {
   "metadata": {},
   "cell_type": "code",
   "outputs": [],
   "execution_count": null,
   "source": [
    "!git clone https://github.com/ToelUl/Lattice-gauge-equivariant-CNN.git\n",
    "\n",
    "!cp -r Lattice-gauge-equivariant-CNN/lge ./"
   ],
   "id": "b5e96097fa7a5364"
  },
  {
   "metadata": {},
   "cell_type": "code",
   "outputs": [],
   "execution_count": null,
   "source": [
    "import numpy as np\n",
    "import torch\n",
    "import lge\n",
    "\n",
    "device = torch.device(\"cuda\" if torch.cuda.is_available() else \"cpu\")\n",
    "print(f\"Using device: {device}\")"
   ],
   "id": "757d5bb72f0dc7c6"
  },
  {
   "metadata": {},
   "cell_type": "markdown",
   "source": "# U(1) group equivariant and invariant model",
   "id": "624e039565fa84b4"
  },
  {
   "metadata": {},
   "cell_type": "markdown",
   "source": "## Initialize the group",
   "id": "567624a407d6c459"
  },
  {
   "metadata": {
    "ExecuteTime": {
     "end_time": "2025-03-15T06:13:11.783164Z",
     "start_time": "2025-03-15T06:13:11.775766Z"
    }
   },
   "cell_type": "code",
   "source": [
    "u1_group = lge.U1Group().to(device)\n",
    "u1_rep_dim = u1_group.rep_dim\n",
    "lie_algebra = u1_group.algebra\n",
    "print(f\"U(1) representation dimension: {u1_rep_dim}\")\n",
    "print(f\"U(1) Lie algebra dimension: {lie_algebra.lie_alg_dim}\")\n",
    "print(f'Generator of U(1) Lie algebra : {lie_algebra.generators()}')\n",
    "print(f'Identity element of U(1) group: {u1_group.identity}')"
   ],
   "id": "6cf77232ef5edffa",
   "outputs": [
    {
     "name": "stdout",
     "output_type": "stream",
     "text": [
      "U(1) representation dimension: 1\n",
      "U(1) Lie algebra dimension: 1\n",
      "Generator of U(1) Lie algebra : [tensor(0.+1.j)]\n",
      "Identity element of U(1) group: tensor([[1.+0.j]], device='cuda:0')\n"
     ]
    }
   ],
   "execution_count": 131
  },
  {
   "metadata": {},
   "cell_type": "markdown",
   "source": "## Initialize the equivariant neural network",
   "id": "7bbabda45efd3d83"
  },
  {
   "metadata": {},
   "cell_type": "markdown",
   "source": "### 2D lattice",
   "id": "3fd17c411edfdf09"
  },
  {
   "metadata": {
    "ExecuteTime": {
     "end_time": "2025-03-15T06:13:11.797831Z",
     "start_time": "2025-03-15T06:13:11.790179Z"
    }
   },
   "cell_type": "code",
   "source": [
    "L = 4 # Lattice size\n",
    "dims = [L, L] # Dimensions of the lattice\n",
    "hidden_sizes = [5, 5] # Hidden layer sizes. Number of output channels (Wilson loops and links) per lattice site.\n",
    "kernel_size = 2 # Kernel size or range for convolution, which means the maximum size of Wilson loop.\n",
    "out_channels = len(dims) # Number of output channels (Wilson loops and links) per lattice site.\n",
    "\n",
    "u1_gauge_equivariant_model_2d = lge.LgeConvNet(\n",
    "    dims=dims,\n",
    "    hidden_sizes=hidden_sizes,\n",
    "    kernel_size=kernel_size,\n",
    "    out_channels=out_channels,\n",
    "    group=u1_group,\n",
    "    gauge_invariant=False,\n",
    "    use_norm=True,\n",
    "    use_act_fn=True,\n",
    "    threshold=1e-6\n",
    ").to(device)"
   ],
   "id": "556aa6e35ecdf8b7",
   "outputs": [],
   "execution_count": 132
  },
  {
   "metadata": {},
   "cell_type": "markdown",
   "source": "Check the model's structure",
   "id": "6047951588611fd5"
  },
  {
   "metadata": {
    "ExecuteTime": {
     "end_time": "2025-03-15T06:13:13.955330Z",
     "start_time": "2025-03-15T06:13:13.951617Z"
    }
   },
   "cell_type": "code",
   "source": "lge.check_model(u1_gauge_equivariant_model_2d)",
   "id": "f33f1768bbf2bef7",
   "outputs": [
    {
     "name": "stdout",
     "output_type": "stream",
     "text": [
      "LgeConvNet(\n",
      "  (group): U1Group(\n",
      "    (algebra): U1LieAlgebra()\n",
      "  )\n",
      "  (plaquette_layer): Plaquette(\n",
      "    (group): U1Group(\n",
      "      (algebra): U1LieAlgebra()\n",
      "    )\n",
      "  )\n",
      "  (input_conv): LConvBilin()\n",
      "  (after_input): Sequential(\n",
      "    (0): LgeReLU()\n",
      "    (1): TrNorm()\n",
      "  )\n",
      "  (hidden_block): Sequential(\n",
      "    (0): LConvBilin()\n",
      "    (1): LgeReLU()\n",
      "    (2): TrNorm()\n",
      "    (3): LConvBilin()\n",
      "    (4): LgeReLU()\n",
      "    (5): TrNorm()\n",
      "  )\n",
      ")\n",
      "Total number of trainable parameters: 1184\n"
     ]
    }
   ],
   "execution_count": 133
  },
  {
   "metadata": {},
   "cell_type": "markdown",
   "source": "### 4D lattice",
   "id": "64ab94c5e80759ea"
  },
  {
   "metadata": {
    "ExecuteTime": {
     "end_time": "2025-03-15T06:13:13.973060Z",
     "start_time": "2025-03-15T06:13:13.964060Z"
    }
   },
   "cell_type": "code",
   "source": [
    "L = 4 # Lattice size\n",
    "dims = [L, L, L, L] # Dimensions of the lattice\n",
    "hidden_sizes = [5, 5] # Hidden layer sizes. Number of output channels (Wilson loops and links) per lattice site.\n",
    "kernel_size = 2 # Kernel size or range for convolution, which means the maximum size of Wilson loop.\n",
    "out_channels = len(dims) # Number of output channels (Wilson loops and links) per lattice site.\n",
    "\n",
    "u1_gauge_equivariant_model_4d = lge.LgeConvNet(\n",
    "    dims=dims,\n",
    "    hidden_sizes=hidden_sizes,\n",
    "    kernel_size=kernel_size,\n",
    "    out_channels=out_channels,\n",
    "    group=u1_group,\n",
    "    gauge_invariant=False,\n",
    "    use_norm=True,\n",
    "    use_act_fn=True,\n",
    "    threshold=1e-6\n",
    ").to(device)"
   ],
   "id": "f0e58999cb002f08",
   "outputs": [],
   "execution_count": 134
  },
  {
   "metadata": {},
   "cell_type": "markdown",
   "source": "Check the model's structure",
   "id": "91b60b8f962b4fde"
  },
  {
   "metadata": {
    "ExecuteTime": {
     "end_time": "2025-03-15T06:13:16.099462Z",
     "start_time": "2025-03-15T06:13:16.095770Z"
    }
   },
   "cell_type": "code",
   "source": "lge.check_model(u1_gauge_equivariant_model_4d)",
   "id": "33971dd287e9ce52",
   "outputs": [
    {
     "name": "stdout",
     "output_type": "stream",
     "text": [
      "LgeConvNet(\n",
      "  (group): U1Group(\n",
      "    (algebra): U1LieAlgebra()\n",
      "  )\n",
      "  (plaquette_layer): Plaquette(\n",
      "    (group): U1Group(\n",
      "      (algebra): U1LieAlgebra()\n",
      "    )\n",
      "  )\n",
      "  (input_conv): LConvBilin()\n",
      "  (after_input): Sequential(\n",
      "    (0): LgeReLU()\n",
      "    (1): TrNorm()\n",
      "  )\n",
      "  (hidden_block): Sequential(\n",
      "    (0): LConvBilin()\n",
      "    (1): LgeReLU()\n",
      "    (2): TrNorm()\n",
      "    (3): LConvBilin()\n",
      "    (4): LgeReLU()\n",
      "    (5): TrNorm()\n",
      "  )\n",
      ")\n",
      "Total number of trainable parameters: 1702\n"
     ]
    }
   ],
   "execution_count": 135
  },
  {
   "metadata": {},
   "cell_type": "markdown",
   "source": "### Gauge invariant model with using the trace of the Wilson loop.",
   "id": "d54596c78dff1a53"
  },
  {
   "metadata": {
    "ExecuteTime": {
     "end_time": "2025-03-15T06:13:16.117898Z",
     "start_time": "2025-03-15T06:13:16.111408Z"
    }
   },
   "cell_type": "code",
   "source": [
    "u1_gauge_invariant_model_4d = lge.LgeConvNet(\n",
    "    dims=dims,\n",
    "    hidden_sizes=hidden_sizes,\n",
    "    kernel_size=kernel_size,\n",
    "    out_channels=out_channels,\n",
    "    group=u1_group,\n",
    "    gauge_invariant=True,\n",
    "    use_norm=True,\n",
    "    use_act_fn=True,\n",
    "    threshold=1e-6\n",
    ").to(device)"
   ],
   "id": "9c0f4fea0906f93a",
   "outputs": [],
   "execution_count": 136
  },
  {
   "metadata": {},
   "cell_type": "markdown",
   "source": "Check the model's structure",
   "id": "f41ec9145b27ede7"
  },
  {
   "metadata": {
    "ExecuteTime": {
     "end_time": "2025-03-15T06:13:18.177889Z",
     "start_time": "2025-03-15T06:13:18.174412Z"
    }
   },
   "cell_type": "code",
   "source": "lge.check_model(u1_gauge_invariant_model_4d)",
   "id": "788d71e299e942d7",
   "outputs": [
    {
     "name": "stdout",
     "output_type": "stream",
     "text": [
      "LgeConvNet(\n",
      "  (group): U1Group(\n",
      "    (algebra): U1LieAlgebra()\n",
      "  )\n",
      "  (plaquette_layer): Plaquette(\n",
      "    (group): U1Group(\n",
      "      (algebra): U1LieAlgebra()\n",
      "    )\n",
      "  )\n",
      "  (input_conv): LConvBilin()\n",
      "  (after_input): Sequential(\n",
      "    (0): LgeReLU()\n",
      "    (1): TrNorm()\n",
      "  )\n",
      "  (hidden_block): Sequential(\n",
      "    (0): LConvBilin()\n",
      "    (1): LgeReLU()\n",
      "    (2): TrNorm()\n",
      "    (3): LConvBilin()\n",
      "    (4): LgeReLU()\n",
      "    (5): TrNorm()\n",
      "    (6): LTrace()\n",
      "  )\n",
      ")\n",
      "Total number of trainable parameters: 1702\n"
     ]
    }
   ],
   "execution_count": 137
  },
  {
   "metadata": {},
   "cell_type": "markdown",
   "source": "### Baseline model",
   "id": "2756d993cfc8cb1d"
  },
  {
   "metadata": {
    "ExecuteTime": {
     "end_time": "2025-03-15T06:13:18.199397Z",
     "start_time": "2025-03-15T06:13:18.190128Z"
    }
   },
   "cell_type": "code",
   "source": [
    "class BaselineModel(torch.nn.Module):\n",
    "    def __init__(self, channels):\n",
    "        super(BaselineModel, self).__init__()\n",
    "        self.mlp1 = torch.nn.Linear(channels, 3)\n",
    "        self.mlp2 = torch.nn.Linear(3, channels)\n",
    "        self.relu = torch.nn.ReLU()\n",
    "\n",
    "    def forward(self, x):\n",
    "        shape = tuple(x.shape)\n",
    "        x = torch.flatten(x, start_dim=1)\n",
    "        x = self.mlp1(x)\n",
    "        x = self.relu(x)\n",
    "        x = self.mlp2(x)\n",
    "        x = x.view(*shape)\n",
    "        return x\n",
    "\n",
    "baseline_model = BaselineModel(channels=np.prod(dims)*len(dims)*u1_rep_dim*u1_rep_dim*2).to(device)\n",
    "\n",
    "lge.check_model(baseline_model)"
   ],
   "id": "2f9c5218a55f8b12",
   "outputs": [
    {
     "name": "stdout",
     "output_type": "stream",
     "text": [
      "BaselineModel(\n",
      "  (mlp1): Linear(in_features=2048, out_features=3, bias=True)\n",
      "  (mlp2): Linear(in_features=3, out_features=2048, bias=True)\n",
      "  (relu): ReLU()\n",
      ")\n",
      "Total number of trainable parameters: 14339\n"
     ]
    }
   ],
   "execution_count": 138
  },
  {
   "metadata": {},
   "cell_type": "markdown",
   "source": "## Initialize the gauge link",
   "id": "3e35aebfe5b9a924"
  },
  {
   "metadata": {
    "ExecuteTime": {
     "end_time": "2025-03-15T06:13:20.264274Z",
     "start_time": "2025-03-15T06:13:20.257527Z"
    }
   },
   "cell_type": "code",
   "source": [
    "batch_size = 10\n",
    "dim = len(dims) # Number of dimensions\n",
    "num_spacial_points = np.prod(dims) # Number of spacial points\n",
    "sample_size = batch_size * num_spacial_points * dim\n",
    "link = u1_group.random_element(\n",
    "    sample_size=sample_size,\n",
    "    apply_map=True, # Apply the exponential map.\n",
    ")\n",
    "print(f\"link shape: {link.shape}\")\n",
    "print(f'Check is unitary: {u1_group.is_unitary(link)}')\n",
    "\n",
    "# Reshape the link to the desired shape. The shape should be (batch_size, num_spacial_points, dim, u1_rep_dim, u1_rep_dim).\n",
    "link = link.view(batch_size, num_spacial_points, dim, u1_rep_dim, u1_rep_dim)\n",
    "print(f\"link shape: {link.shape}\")\n",
    "print(f'Check is unitary: {u1_group.is_unitary(link)}')"
   ],
   "id": "a46fe2d5fae00e03",
   "outputs": [
    {
     "name": "stdout",
     "output_type": "stream",
     "text": [
      "link shape: torch.Size([10240, 1, 1])\n",
      "Check is unitary: True\n",
      "link shape: torch.Size([10, 256, 4, 1, 1])\n",
      "Check is unitary: True\n"
     ]
    }
   ],
   "execution_count": 139
  },
  {
   "metadata": {},
   "cell_type": "markdown",
   "source": "Check the type of link",
   "id": "95beb6c4f62e10d"
  },
  {
   "metadata": {
    "ExecuteTime": {
     "end_time": "2025-03-15T06:13:20.277831Z",
     "start_time": "2025-03-15T06:13:20.264274Z"
    }
   },
   "cell_type": "code",
   "source": "print(f'Link type: {link.type()}')",
   "id": "5a68987699396ce7",
   "outputs": [
    {
     "name": "stdout",
     "output_type": "stream",
     "text": [
      "Link type: torch.cuda.ComplexFloatTensor\n"
     ]
    }
   ],
   "execution_count": 140
  },
  {
   "metadata": {},
   "cell_type": "markdown",
   "source": "The input to the lattice gauge equivariant model should be a real tensor",
   "id": "17dc595e15b1e6e5"
  },
  {
   "metadata": {
    "ExecuteTime": {
     "end_time": "2025-03-15T06:13:21.356772Z",
     "start_time": "2025-03-15T06:13:21.352703Z"
    }
   },
   "cell_type": "code",
   "source": [
    "link_real = u1_group.convert_to_real(link)\n",
    "print(f'Link real type: {link_real.type()}')\n",
    "print(f'Link real shape: {link_real.shape}')"
   ],
   "id": "633696cf8f334863",
   "outputs": [
    {
     "name": "stdout",
     "output_type": "stream",
     "text": [
      "Link real type: torch.cuda.FloatTensor\n",
      "Link real shape: torch.Size([10, 256, 4, 1, 1, 2])\n"
     ]
    }
   ],
   "execution_count": 141
  },
  {
   "metadata": {},
   "cell_type": "markdown",
   "source": "## Apply the gauge transformation",
   "id": "3510079767dc491d"
  },
  {
   "metadata": {},
   "cell_type": "markdown",
   "source": "### Global gauge transformation",
   "id": "59d5964937b9ea5d"
  },
  {
   "metadata": {
    "ExecuteTime": {
     "end_time": "2025-03-15T06:13:22.417068Z",
     "start_time": "2025-03-15T06:13:22.413412Z"
    }
   },
   "cell_type": "code",
   "source": [
    "left_act = u1_group.left_action_on_Cn\n",
    "right_act = u1_group.right_action_on_Cn"
   ],
   "id": "6090e7f58847896e",
   "outputs": [],
   "execution_count": 142
  },
  {
   "metadata": {},
   "cell_type": "markdown",
   "source": "Choose a random element from the group",
   "id": "98fd731249e61038"
  },
  {
   "metadata": {
    "ExecuteTime": {
     "end_time": "2025-03-15T06:13:23.452360Z",
     "start_time": "2025-03-15T06:13:23.447279Z"
    }
   },
   "cell_type": "code",
   "source": [
    "global_g = u1_group.random_element().to(device)\n",
    "print(f'Random element shape: {global_g.shape}')\n",
    "print(f'Check is unitary: {u1_group.is_unitary(global_g)}')"
   ],
   "id": "2e8d193a62c30fe9",
   "outputs": [
    {
     "name": "stdout",
     "output_type": "stream",
     "text": [
      "Random element shape: torch.Size([1, 1, 1])\n",
      "Check is unitary: True\n"
     ]
    }
   ],
   "execution_count": 143
  },
  {
   "metadata": {},
   "cell_type": "markdown",
   "source": [
    "Left action of the group element on the link.\n",
    "$g \\cdot link$."
   ],
   "id": "845117b2a9255021"
  },
  {
   "metadata": {
    "ExecuteTime": {
     "end_time": "2025-03-15T06:13:24.512274Z",
     "start_time": "2025-03-15T06:13:24.508235Z"
    }
   },
   "cell_type": "code",
   "source": [
    "global_g_link = u1_group.left_action_on_Cn(global_g, link)\n",
    "print(f'g_link shape: {global_g_link.shape}')"
   ],
   "id": "ed8de1ffea659346",
   "outputs": [
    {
     "name": "stdout",
     "output_type": "stream",
     "text": [
      "g_link shape: torch.Size([10, 256, 4, 1, 1])\n"
     ]
    }
   ],
   "execution_count": 144
  },
  {
   "metadata": {},
   "cell_type": "markdown",
   "source": [
    "Because the group is abelian, do the right action of the group element on the $g \\cdot link$ should return the original link.\n",
    "\n",
    "<br>$g \\cdot link \\cdot g^{-1} = link \\cdot g \\cdot g^{-1} = link$"
   ],
   "id": "b06418b304706ea7"
  },
  {
   "metadata": {
    "ExecuteTime": {
     "end_time": "2025-03-15T06:13:25.574959Z",
     "start_time": "2025-03-15T06:13:25.569826Z"
    }
   },
   "cell_type": "code",
   "source": [
    "global_g_link_g_inv = u1_group.right_action_on_Cn(global_g, global_g_link)\n",
    "print(torch.allclose(link, global_g_link_g_inv))"
   ],
   "id": "b768d495984dc1ad",
   "outputs": [
    {
     "name": "stdout",
     "output_type": "stream",
     "text": [
      "True\n"
     ]
    }
   ],
   "execution_count": 145
  },
  {
   "metadata": {},
   "cell_type": "markdown",
   "source": [
    "And the way to apply the gauge transformation on gauge link is\n",
    "\n",
    "<br> $g(x) \\cdot link(x)_{\\mu} \\cdot g^{-1}(x+\\hat{\\mu})$\n",
    "\n",
    "<br>We can use the function `gauge_trans_to_gauge_link` to apply the gauge transformation on gauge link."
   ],
   "id": "bc8c003044d4cbf7"
  },
  {
   "metadata": {
    "ExecuteTime": {
     "end_time": "2025-03-15T06:13:26.619100Z",
     "start_time": "2025-03-15T06:13:26.613367Z"
    }
   },
   "cell_type": "code",
   "source": [
    "global_g_link_g_inv_ = lge.gauge_trans_to_gauge_link(\n",
    "    u=link,\n",
    "    global_group_element=global_g,\n",
    "    local_group_elements=None,\n",
    "    dims=None\n",
    ")\n",
    "# The output should be the same\n",
    "print(torch.allclose(global_g_link_g_inv, global_g_link_g_inv_))"
   ],
   "id": "f1a63fd9be884e19",
   "outputs": [
    {
     "name": "stdout",
     "output_type": "stream",
     "text": [
      "True\n"
     ]
    }
   ],
   "execution_count": 146
  },
  {
   "metadata": {},
   "cell_type": "markdown",
   "source": "We can use the function `gauge_trans_to_wilson_loop` to apply the gauge transformation on closed loop.",
   "id": "de45d65de9e135e1"
  },
  {
   "metadata": {
    "ExecuteTime": {
     "end_time": "2025-03-15T06:13:27.675508Z",
     "start_time": "2025-03-15T06:13:27.659059Z"
    }
   },
   "cell_type": "code",
   "source": [
    "w = lge.generate_wilson_loops(dims=dims, u=link, group=u1_group)\n",
    "print(f'Wilson loops shape: {w.shape}')\n",
    "\n",
    "global_g_w_g_inv = lge.gauge_trans_to_wilson_loop(\n",
    "    w=w,\n",
    "    global_group_element=global_g,\n",
    "    local_group_elements=None\n",
    ")\n",
    "print(f'Global g*w*g_inv shape: {global_g_w_g_inv.shape}')"
   ],
   "id": "d76441ab96623392",
   "outputs": [
    {
     "name": "stdout",
     "output_type": "stream",
     "text": [
      "Wilson loops shape: torch.Size([10, 256, 6, 1, 1])\n",
      "Global g*w*g_inv shape: torch.Size([10, 256, 6, 1, 1])\n"
     ]
    }
   ],
   "execution_count": 147
  },
  {
   "metadata": {},
   "cell_type": "markdown",
   "source": "### Local gauge transformation",
   "id": "22b228c7c8822b72"
  },
  {
   "metadata": {},
   "cell_type": "markdown",
   "source": "Choose random elements from the group for each spacial point.",
   "id": "a8b382d94e73a6f"
  },
  {
   "metadata": {
    "ExecuteTime": {
     "end_time": "2025-03-15T06:13:28.734235Z",
     "start_time": "2025-03-15T06:13:28.729122Z"
    }
   },
   "cell_type": "code",
   "source": [
    "spacial_points = batch_size * num_spacial_points\n",
    "local_g = u1_group.random_element(sample_size=spacial_points, apply_map=True).to(device)\n",
    "print(f'Random element shape: {local_g.shape}')\n",
    "local_g = local_g.view(batch_size, num_spacial_points, 1, u1_rep_dim, u1_rep_dim)\n",
    "print(f'Random element shape: {local_g.shape}')"
   ],
   "id": "47f562e6e44f5d9d",
   "outputs": [
    {
     "name": "stdout",
     "output_type": "stream",
     "text": [
      "Random element shape: torch.Size([2560, 1, 1])\n",
      "Random element shape: torch.Size([10, 256, 1, 1, 1])\n"
     ]
    }
   ],
   "execution_count": 148
  },
  {
   "metadata": {},
   "cell_type": "markdown",
   "source": "$g(x) \\cdot W(x)$",
   "id": "e54ca466488c3995"
  },
  {
   "metadata": {
    "ExecuteTime": {
     "end_time": "2025-03-15T06:13:29.792608Z",
     "start_time": "2025-03-15T06:13:29.779471Z"
    }
   },
   "cell_type": "code",
   "source": [
    "w = lge.generate_wilson_loops(dims=dims, u=link, group=u1_group)\n",
    "print(f'Wilson loops shape: {w.shape}')\n",
    "\n",
    "local_g_w = left_act(local_g, w)\n",
    "print(f'local_g_w shape: {local_g_w.shape}')"
   ],
   "id": "5175948fa88b3b50",
   "outputs": [
    {
     "name": "stdout",
     "output_type": "stream",
     "text": [
      "Wilson loops shape: torch.Size([10, 256, 6, 1, 1])\n",
      "local_g_w shape: torch.Size([10, 256, 6, 1, 1])\n"
     ]
    }
   ],
   "execution_count": 149
  },
  {
   "metadata": {},
   "cell_type": "markdown",
   "source": [
    "Abelian group\n",
    "\n",
    "<br>$g(x) \\cdot W(x) \\cdot g^{-1}(x) = W(x) \\cdot g(x) \\cdot g^{-1}(x) = W(x)$"
   ],
   "id": "9d52922e3ac5ea5e"
  },
  {
   "metadata": {
    "ExecuteTime": {
     "end_time": "2025-03-15T06:13:30.878675Z",
     "start_time": "2025-03-15T06:13:30.873677Z"
    }
   },
   "cell_type": "code",
   "source": [
    "local_g_w_g_inv = right_act(local_g, local_g_w)\n",
    "print(torch.allclose(w, local_g_w_g_inv))"
   ],
   "id": "b976fb4bf950015b",
   "outputs": [
    {
     "name": "stdout",
     "output_type": "stream",
     "text": [
      "True\n"
     ]
    }
   ],
   "execution_count": 150
  },
  {
   "metadata": {},
   "cell_type": "markdown",
   "source": "We can use the function `gauge_trans_to_wilson_loop` to apply the gauge transformation on closed loop.",
   "id": "7c365799fd048c7b"
  },
  {
   "metadata": {
    "ExecuteTime": {
     "end_time": "2025-03-15T06:13:31.948348Z",
     "start_time": "2025-03-15T06:13:31.942208Z"
    }
   },
   "cell_type": "code",
   "source": [
    "local_g_w_g_inv_ = lge.gauge_trans_to_wilson_loop(\n",
    "    w=w,\n",
    "    global_group_element=None,\n",
    "    local_group_elements=local_g,\n",
    ")\n",
    "print(f'Local g*w*g_inv shape: {local_g_w_g_inv.shape}')\n",
    "\n",
    "# The output should be the same\n",
    "print(torch.allclose(local_g_w_g_inv, local_g_w_g_inv_))"
   ],
   "id": "5efc4b362fcfb7c2",
   "outputs": [
    {
     "name": "stdout",
     "output_type": "stream",
     "text": [
      "Local g*w*g_inv shape: torch.Size([10, 256, 6, 1, 1])\n",
      "True\n"
     ]
    }
   ],
   "execution_count": 151
  },
  {
   "metadata": {},
   "cell_type": "markdown",
   "source": [
    "And the way to apply the gauge transformation on gauge link is\n",
    "\n",
    "<br> $g(x) \\cdot link(x)_{\\mu} \\cdot g^{-1}(x+\\hat{\\mu})$\n",
    "\n",
    "<br>We can use the function `gauge_trans_to_gauge_link` to apply the gauge transformation on gauge link."
   ],
   "id": "87c9316c024db007"
  },
  {
   "metadata": {
    "ExecuteTime": {
     "end_time": "2025-03-15T06:13:33.021270Z",
     "start_time": "2025-03-15T06:13:33.013768Z"
    }
   },
   "cell_type": "code",
   "source": [
    "local_g_link_g_inv = lge.gauge_trans_to_gauge_link(\n",
    "    u=link,\n",
    "    global_group_element=None,\n",
    "    local_group_elements=local_g,\n",
    "    dims=dims\n",
    ")\n",
    "print(f'Local g*link*g_inv shape: {local_g_link_g_inv.shape}')"
   ],
   "id": "7bba4d3c0e1aac86",
   "outputs": [
    {
     "name": "stdout",
     "output_type": "stream",
     "text": [
      "Local g*link*g_inv shape: torch.Size([10, 256, 4, 1, 1])\n"
     ]
    }
   ],
   "execution_count": 152
  },
  {
   "metadata": {},
   "cell_type": "markdown",
   "source": "### Gauge transformation with both global and local elements",
   "id": "8dd18ca41cbeedf7"
  },
  {
   "metadata": {
    "ExecuteTime": {
     "end_time": "2025-03-15T06:13:34.098645Z",
     "start_time": "2025-03-15T06:13:34.094151Z"
    }
   },
   "cell_type": "code",
   "source": [
    "g_w_g_inv = lge.gauge_trans_to_wilson_loop(\n",
    "    w=w,\n",
    "    global_group_element=global_g,\n",
    "    local_group_elements=local_g,\n",
    ")\n",
    "print(f'g*w*g_inv shape: {g_w_g_inv.shape}')"
   ],
   "id": "b659a9e6d9e4ba8b",
   "outputs": [
    {
     "name": "stdout",
     "output_type": "stream",
     "text": [
      "g*w*g_inv shape: torch.Size([10, 256, 6, 1, 1])\n"
     ]
    }
   ],
   "execution_count": 153
  },
  {
   "metadata": {
    "ExecuteTime": {
     "end_time": "2025-03-15T06:13:35.186328Z",
     "start_time": "2025-03-15T06:13:35.179097Z"
    }
   },
   "cell_type": "code",
   "source": [
    "g_link_g_inv = lge.gauge_trans_to_gauge_link(\n",
    "    u=link,\n",
    "    global_group_element=global_g,\n",
    "    local_group_elements=local_g,\n",
    "    dims=dims\n",
    ")\n",
    "print(f'g*link*g_inv shape: {g_link_g_inv.shape}')"
   ],
   "id": "22c7a309f78369eb",
   "outputs": [
    {
     "name": "stdout",
     "output_type": "stream",
     "text": [
      "g*link*g_inv shape: torch.Size([10, 256, 4, 1, 1])\n"
     ]
    }
   ],
   "execution_count": 154
  },
  {
   "metadata": {},
   "cell_type": "markdown",
   "source": "## Check gauge equivariance and invariance",
   "id": "236427796758a818"
  },
  {
   "metadata": {},
   "cell_type": "markdown",
   "source": [
    "The group action on operators like the gauge link is defined as:\n",
    "\n",
    "<br> $\\mathcal{L}_{g(x), \\mu} \\cdot \\hat{\\mathcal{O}}_{\\mu} \\equiv g(x) \\cdot \\hat{\\mathcal{O}}_{\\mu} \\cdot g^{-1}(x+\\hat{\\mu})$\n",
    "\n",
    "<br>The group action on operators like the Wilson loop is defined as:\n",
    "\n",
    "<br> $\\mathcal{L}_{g(x)} \\cdot W(x) \\equiv g(x) \\cdot W(x) \\cdot g^{-1}(x)$\n",
    "\n",
    "<br> The global gauge equivariance of the model is defined as:\n",
    "\n",
    "<br> $\\mathcal{L}_{g} \\cdot Model\\left(link_{\\mu}\\right) =  Model\\left(\\mathcal{L}_{g, \\mu} \\cdot link_{\\mu}\\right)$\n",
    "\n",
    "<br> Where $g$ is a global group element.\n",
    "\n",
    "<br> The global gauge invariance of the model is defined as:\n",
    "\n",
    "<br> $Model\\left(link_{\\mu}\\right) =  Model\\left(\\mathcal{L}_{g,\\mu} \\cdot link_{\\mu}\\right)$\n",
    "\n",
    "<br>The local gauge equivariance of the model is defined as:\n",
    "\n",
    "<br> $\\mathcal{L}_{g(x)} \\cdot Model\\left(link(x)_{\\mu}\\right) =  Model\\left(\\mathcal{L}_{g(x),\\mu} \\cdot link(x)_{\\mu}\\right)$\n",
    "\n",
    "<br> The local gauge invariance of the model is defined as:\n",
    "\n",
    "<br> $Model\\left(link(x)_{\\mu}\\right) =  Model\\left(\\mathcal{L}_{g(x),\\mu} \\cdot link(x)_{\\mu}\\right)$"
   ],
   "id": "2d53cb200e76d6c"
  },
  {
   "metadata": {},
   "cell_type": "markdown",
   "source": [
    "### Check global gauge equivariance\n",
    "#### (True for all network due to the abelian group)"
   ],
   "id": "744ee8beb8095026"
  },
  {
   "metadata": {},
   "cell_type": "markdown",
   "source": "The Wilson loop is always invariant under a global gauge transformation, and is always gauge equivalent when didn't trace the Wilson loop.",
   "id": "5d586be03e0d7793"
  },
  {
   "metadata": {
    "ExecuteTime": {
     "end_time": "2025-03-15T06:13:36.215493Z",
     "start_time": "2025-03-15T06:13:36.210029Z"
    }
   },
   "cell_type": "code",
   "source": [
    "link = u1_group.random_element(sample_size=sample_size).view(batch_size, num_spacial_points, dim, u1_rep_dim, u1_rep_dim)\n",
    "link_real = u1_group.convert_to_real(link)\n",
    "global_g = u1_group.random_element().to(device)\n",
    "global_g_link = u1_group.left_action_on_Cn(global_g, link)\n",
    "global_g_link_g_inv = right_act(global_g, global_g_link)\n",
    "print(f'Global g*link*g_inv shape: {global_g_link_g_inv.shape}')"
   ],
   "id": "b66f72bd4d34da9a",
   "outputs": [
    {
     "name": "stdout",
     "output_type": "stream",
     "text": [
      "Global g*link*g_inv shape: torch.Size([10, 256, 4, 1, 1])\n"
     ]
    }
   ],
   "execution_count": 155
  },
  {
   "metadata": {},
   "cell_type": "markdown",
   "source": "Convert the link to real type",
   "id": "24511ee95d9665e8"
  },
  {
   "metadata": {
    "ExecuteTime": {
     "end_time": "2025-03-15T06:13:37.245219Z",
     "start_time": "2025-03-15T06:13:37.240949Z"
    }
   },
   "cell_type": "code",
   "source": [
    "global_g_link_g_inv_real = u1_group.convert_to_real(global_g_link_g_inv)\n",
    "print(f'Global g*link real type: {global_g_link_g_inv_real.type()}')\n",
    "print(f'Global g*link real shape: {global_g_link_g_inv_real.shape}')"
   ],
   "id": "77c2587a5a716d87",
   "outputs": [
    {
     "name": "stdout",
     "output_type": "stream",
     "text": [
      "Global g*link real type: torch.cuda.FloatTensor\n",
      "Global g*link real shape: torch.Size([10, 256, 4, 1, 1, 2])\n"
     ]
    }
   ],
   "execution_count": 156
  },
  {
   "metadata": {},
   "cell_type": "markdown",
   "source": [
    "Apply the model to the link and the transformed link.\n",
    "\n",
    "<br>$Model \\left(g \\cdot link \\cdot g^{-1} \\right)$\n",
    "\n",
    "<br>$Model \\left( link \\right)$"
   ],
   "id": "b874349adc9b0af5"
  },
  {
   "metadata": {
    "ExecuteTime": {
     "end_time": "2025-03-15T06:13:38.364097Z",
     "start_time": "2025-03-15T06:13:38.274312Z"
    }
   },
   "cell_type": "code",
   "source": [
    "model_global_g_link_g_inv = u1_gauge_equivariant_model_4d(global_g_link_g_inv_real)\n",
    "baseline_model_global_g_link_g_inv = baseline_model(global_g_link_g_inv_real)\n",
    "\n",
    "model_link = u1_gauge_equivariant_model_4d(link_real)\n",
    "baseline_model_link = baseline_model(link_real)\n",
    "\n",
    "print('Lattice gauge equivariant model: ')\n",
    "print(f'Model(g*link*g_inv) shape: {model_global_g_link_g_inv.shape}')\n",
    "print(f'Model(link) shape: {model_link.shape}')\n",
    "print('='*100)\n",
    "print('Baseline model: ')\n",
    "print(f'Model(g*link*g_inv) shape: {baseline_model_global_g_link_g_inv.shape}')\n",
    "print(f'Model(link) shape: {baseline_model_link.shape}')"
   ],
   "id": "4972eed351d72031",
   "outputs": [
    {
     "name": "stdout",
     "output_type": "stream",
     "text": [
      "Lattice gauge equivariant model: \n",
      "Model(g*link*g_inv) shape: torch.Size([10, 256, 4, 1, 1, 2])\n",
      "Model(link) shape: torch.Size([10, 256, 4, 1, 1, 2])\n",
      "====================================================================================================\n",
      "Baseline model: \n",
      "Model(g*link*g_inv) shape: torch.Size([10, 256, 4, 1, 1, 2])\n",
      "Model(link) shape: torch.Size([10, 256, 4, 1, 1, 2])\n"
     ]
    }
   ],
   "execution_count": 157
  },
  {
   "metadata": {},
   "cell_type": "markdown",
   "source": [
    "Convert the output to complex type and compute\n",
    "\n",
    "<br>$g \\cdot Model(link) \\cdot g^{-1}$"
   ],
   "id": "8802a97a83484485"
  },
  {
   "metadata": {
    "ExecuteTime": {
     "end_time": "2025-03-15T06:13:39.376091Z",
     "start_time": "2025-03-15T06:13:39.369369Z"
    }
   },
   "cell_type": "code",
   "source": [
    "model_global_g_link_g_inv = u1_group.convert_to_complex(model_global_g_link_g_inv)\n",
    "baseline_model_global_g_link_g_inv = u1_group.convert_to_complex(baseline_model_global_g_link_g_inv)\n",
    "\n",
    "model_link = u1_group.convert_to_complex(model_link)\n",
    "baseline_model_link = u1_group.convert_to_complex(baseline_model_link)\n",
    "\n",
    "global_g_model_link_g_inv = right_act(global_g, left_act(global_g, model_link))\n",
    "baseline_global_g_model_link_g_inv = right_act(global_g, left_act(global_g, baseline_model_link))\n",
    "\n",
    "print('Lattice gauge equivariant model: ')\n",
    "print(f'Model(g*link*g_inv) shape: {model_global_g_link_g_inv.shape}')\n",
    "print(f'Model(link) shape: {model_link.shape}')\n",
    "print('='*100)\n",
    "print('Baseline model: ')\n",
    "print(f'Model(g*link*g_inv) shape: {baseline_model_global_g_link_g_inv.shape}')\n",
    "print(f'Model(link) shape: {baseline_model_link.shape}')"
   ],
   "id": "2bdc2f68a0f2d5a9",
   "outputs": [
    {
     "name": "stdout",
     "output_type": "stream",
     "text": [
      "Lattice gauge equivariant model: \n",
      "Model(g*link*g_inv) shape: torch.Size([10, 256, 4, 1, 1])\n",
      "Model(link) shape: torch.Size([10, 256, 4, 1, 1])\n",
      "====================================================================================================\n",
      "Baseline model: \n",
      "Model(g*link*g_inv) shape: torch.Size([10, 256, 4, 1, 1])\n",
      "Model(link) shape: torch.Size([10, 256, 4, 1, 1])\n"
     ]
    }
   ],
   "execution_count": 158
  },
  {
   "metadata": {},
   "cell_type": "markdown",
   "source": [
    "#### Check the equivariance\n",
    "<br> $g \\cdot Model \\left( link \\right) \\cdot g^{-1} = Model \\left( g \\cdot link \\cdot g^{-1} \\right)$\n",
    "\n",
    "<br> But due to the numerical precision, the equality may not hold exactly.\n",
    "\n",
    "<br> We can check the difference between the two outputs.\n",
    "\n",
    "<br> $||g \\cdot Model \\left( link \\right) \\cdot g^{-1} - Model \\left( g \\cdot link \\cdot g^{-1} \\right)|| = \\epsilon$"
   ],
   "id": "675087fd53394eea"
  },
  {
   "metadata": {
    "ExecuteTime": {
     "end_time": "2025-03-15T06:13:40.443406Z",
     "start_time": "2025-03-15T06:13:40.436423Z"
    }
   },
   "cell_type": "code",
   "source": [
    "print('Lattice gauge equivariant model: ')\n",
    "print(torch.allclose(global_g_model_link_g_inv, model_global_g_link_g_inv, atol=1e-3))\n",
    "print('Error :', torch.norm(global_g_model_link_g_inv - model_global_g_link_g_inv).item())\n",
    "print('='*100)\n",
    "print('Baseline model: ')\n",
    "print(torch.allclose(baseline_global_g_model_link_g_inv, baseline_model_global_g_link_g_inv, atol=1e-3))\n",
    "print('Error :', torch.norm(baseline_global_g_model_link_g_inv - baseline_model_global_g_link_g_inv).item())"
   ],
   "id": "20b854f2ca50bca0",
   "outputs": [
    {
     "name": "stdout",
     "output_type": "stream",
     "text": [
      "Lattice gauge equivariant model: \n",
      "True\n",
      "Error : 2.102320286212489e-05\n",
      "====================================================================================================\n",
      "Baseline model: \n",
      "True\n",
      "Error : 4.958920726494398e-06\n"
     ]
    }
   ],
   "execution_count": 159
  },
  {
   "metadata": {},
   "cell_type": "markdown",
   "source": [
    "### Check global gauge invariance\n",
    "#### (True for all network due to the abelian group)"
   ],
   "id": "2c25d60965373ab6"
  },
  {
   "metadata": {},
   "cell_type": "markdown",
   "source": [
    "Apply the invariant model to the link and the transformed link.\n",
    "\n",
    "<br>$Model \\left(g \\cdot link \\cdot g^{-1} \\right)$\n",
    "\n",
    "<br>$Model \\left( link \\right)$"
   ],
   "id": "51ac3d5bddd80cd4"
  },
  {
   "metadata": {
    "ExecuteTime": {
     "end_time": "2025-03-15T06:13:41.573651Z",
     "start_time": "2025-03-15T06:13:41.491792Z"
    }
   },
   "cell_type": "code",
   "source": [
    "invariant_model_global_g_link_g_inv = u1_gauge_invariant_model_4d(global_g_link_g_inv_real)\n",
    "baseline_global_g_model_link_g_inv = baseline_model(global_g_link_g_inv_real)\n",
    "\n",
    "invariant_model_link = u1_gauge_invariant_model_4d(link_real)\n",
    "baseline_model_link = baseline_model(link_real)\n",
    "\n",
    "print('Lattice gauge invariant model: ')\n",
    "print(f'Invariant model(g*link*g_inv) shape: {invariant_model_global_g_link_g_inv.shape}')\n",
    "print(f'Invariant model(link) shape: {invariant_model_link.shape}')\n",
    "print('='*100)\n",
    "print('Baseline model: ')\n",
    "print(f'Baseline model(g*link*g_inv) shape: {baseline_global_g_model_link_g_inv.shape}')\n",
    "print(f'Baseline model(link) shape: {baseline_model_link.shape}')"
   ],
   "id": "4d574739b9963197",
   "outputs": [
    {
     "name": "stdout",
     "output_type": "stream",
     "text": [
      "Lattice gauge invariant model: \n",
      "Invariant model(g*link*g_inv) shape: torch.Size([10, 256, 4, 2])\n",
      "Invariant model(link) shape: torch.Size([10, 256, 4, 2])\n",
      "====================================================================================================\n",
      "Baseline model: \n",
      "Baseline model(g*link*g_inv) shape: torch.Size([10, 256, 4, 1, 1, 2])\n",
      "Baseline model(link) shape: torch.Size([10, 256, 4, 1, 1, 2])\n"
     ]
    }
   ],
   "execution_count": 160
  },
  {
   "metadata": {},
   "cell_type": "markdown",
   "source": [
    "#### Check the invariance\n",
    "<br> $Model \\left( link \\right) = Model \\left( g \\cdot link \\cdot g^{-1} \\right)$\n",
    "\n",
    "<br> But due to the numerical precision, the equality may not hold exactly.\n",
    "\n",
    "<br> We can check the difference between the two outputs.\n",
    "\n",
    "<br> $||Model \\left( link \\right) - Model \\left( g \\cdot link \\cdot g^{-1} \\right)|| = \\epsilon$"
   ],
   "id": "5d97c4ee24757692"
  },
  {
   "metadata": {
    "ExecuteTime": {
     "end_time": "2025-03-15T06:13:42.605714Z",
     "start_time": "2025-03-15T06:13:42.598989Z"
    }
   },
   "cell_type": "code",
   "source": [
    "print('Lattice gauge invariant model: ')\n",
    "print(torch.allclose(invariant_model_link, invariant_model_global_g_link_g_inv, atol=1e-3))\n",
    "print('Error:', torch.norm(invariant_model_link - invariant_model_global_g_link_g_inv).item())\n",
    "print('='*100)\n",
    "print('Baseline model: ')\n",
    "print(torch.allclose(baseline_model_link, baseline_global_g_model_link_g_inv, atol=1e-3))\n",
    "print('Error:', torch.norm(baseline_model_link - baseline_global_g_model_link_g_inv).item())"
   ],
   "id": "d4f690f9b1a87109",
   "outputs": [
    {
     "name": "stdout",
     "output_type": "stream",
     "text": [
      "Lattice gauge invariant model: \n",
      "True\n",
      "Error: 4.223789346724516e-06\n",
      "====================================================================================================\n",
      "Baseline model: \n",
      "True\n",
      "Error: 3.7628824429702945e-06\n"
     ]
    }
   ],
   "execution_count": 161
  },
  {
   "metadata": {},
   "cell_type": "markdown",
   "source": "### Check local gauge equivariance",
   "id": "a1fd3957914078f4"
  },
  {
   "metadata": {},
   "cell_type": "markdown",
   "source": "The Wilson loop is always invariant under a local gauge transformation, and is always local gauge equivalent when didn't trace the Wilson loop.",
   "id": "9f95126ac5d8a7fc"
  },
  {
   "metadata": {
    "ExecuteTime": {
     "end_time": "2025-03-15T06:13:43.636836Z",
     "start_time": "2025-03-15T06:13:43.629472Z"
    }
   },
   "cell_type": "code",
   "source": [
    "link = u1_group.random_element(sample_size=sample_size).view(batch_size, num_spacial_points, dim, u1_rep_dim, u1_rep_dim)\n",
    "link_real = u1_group.convert_to_real(link)\n",
    "local_g = u1_group.random_element(sample_size=spacial_points).view(batch_size, num_spacial_points, 1, u1_rep_dim, u1_rep_dim).to(device)\n",
    "local_g_link_g_inv = lge.gauge_trans_to_gauge_link(\n",
    "    u=link,\n",
    "    global_group_element=None,\n",
    "    local_group_elements=local_g,\n",
    "    dims=dims\n",
    ")\n",
    "print(f'Local g*link*g_inv shape: {local_g_link_g_inv.shape}')"
   ],
   "id": "7661baaf09040a08",
   "outputs": [
    {
     "name": "stdout",
     "output_type": "stream",
     "text": [
      "Local g*link*g_inv shape: torch.Size([10, 256, 4, 1, 1])\n"
     ]
    }
   ],
   "execution_count": 162
  },
  {
   "metadata": {},
   "cell_type": "markdown",
   "source": "Convert the tensor to real type for the model",
   "id": "3384973cf4d82783"
  },
  {
   "metadata": {
    "ExecuteTime": {
     "end_time": "2025-03-15T06:13:44.684567Z",
     "start_time": "2025-03-15T06:13:44.680394Z"
    }
   },
   "cell_type": "code",
   "source": [
    "local_g_link_g_inv_real = u1_group.convert_to_real(local_g_link_g_inv)\n",
    "print(f'Local g*link*g_inv real shape: {local_g_link_g_inv_real.shape}')"
   ],
   "id": "81ade2c8ad85c2d",
   "outputs": [
    {
     "name": "stdout",
     "output_type": "stream",
     "text": [
      "Local g*link*g_inv real shape: torch.Size([10, 256, 4, 1, 1, 2])\n"
     ]
    }
   ],
   "execution_count": 163
  },
  {
   "metadata": {},
   "cell_type": "markdown",
   "source": [
    "Apply the model to the link and the transformed link.\n",
    "\n",
    "<br>$Model \\left( g(x) \\cdot link(x)_{\\mu} \\cdot g^{-1}(x+\\hat{\\mu}) \\right)$\n",
    "\n",
    "<br>$Model \\left( link(x) \\right)$"
   ],
   "id": "db6b56b00ae08c85"
  },
  {
   "metadata": {
    "ExecuteTime": {
     "end_time": "2025-03-15T06:13:45.816863Z",
     "start_time": "2025-03-15T06:13:45.730929Z"
    }
   },
   "cell_type": "code",
   "source": [
    "model_local_g_link_g_inv = u1_gauge_equivariant_model_4d(local_g_link_g_inv_real)\n",
    "baseline_model_local_g_link_g_inv = baseline_model(local_g_link_g_inv_real)\n",
    "\n",
    "model_link = u1_gauge_equivariant_model_4d(link_real)\n",
    "baseline_model_link = baseline_model(link_real)\n",
    "\n",
    "print('Lattice gauge equivariant model: ')\n",
    "print(f'Model(g*link*g_inv) shape: {model_local_g_link_g_inv.shape}')\n",
    "print(f'Model(link) shape: {model_link.shape}')\n",
    "print('='*100)\n",
    "print('Baseline model: ')\n",
    "print(f'Model(g*link*g_inv) shape: {baseline_model_local_g_link_g_inv.shape}')\n",
    "print(f'Model(link) shape: {baseline_model_link.shape}')"
   ],
   "id": "6993ae1baaa19b6e",
   "outputs": [
    {
     "name": "stdout",
     "output_type": "stream",
     "text": [
      "Lattice gauge equivariant model: \n",
      "Model(g*link*g_inv) shape: torch.Size([10, 256, 4, 1, 1, 2])\n",
      "Model(link) shape: torch.Size([10, 256, 4, 1, 1, 2])\n",
      "====================================================================================================\n",
      "Baseline model: \n",
      "Model(g*link*g_inv) shape: torch.Size([10, 256, 4, 1, 1, 2])\n",
      "Model(link) shape: torch.Size([10, 256, 4, 1, 1, 2])\n"
     ]
    }
   ],
   "execution_count": 164
  },
  {
   "metadata": {},
   "cell_type": "markdown",
   "source": [
    "Convert the output to complex type and compute\n",
    "\n",
    "<br>$g(x) \\cdot Model \\left( link(x) \\right) \\cdot g^{-1}(x)$"
   ],
   "id": "3e0886e33345fc2a"
  },
  {
   "metadata": {
    "ExecuteTime": {
     "end_time": "2025-03-15T06:13:46.888445Z",
     "start_time": "2025-03-15T06:13:46.881947Z"
    }
   },
   "cell_type": "code",
   "source": [
    "model_local_g_link_g_inv = u1_group.convert_to_complex(model_local_g_link_g_inv)\n",
    "baseline_model_local_g_link_g_inv = u1_group.convert_to_complex(baseline_model_local_g_link_g_inv)\n",
    "\n",
    "model_link = u1_group.convert_to_complex(model_link)\n",
    "baseline_model_link = u1_group.convert_to_complex(baseline_model_link)\n",
    "\n",
    "local_g_model_link_g_inv = lge.gauge_trans_to_wilson_loop(\n",
    "    w=model_link,\n",
    "    global_group_element=None,\n",
    "    local_group_elements=local_g,\n",
    ")\n",
    "baseline_local_g_model_link_g_inv = lge.gauge_trans_to_wilson_loop(\n",
    "    w=baseline_model_link,\n",
    "    global_group_element=None,\n",
    "    local_group_elements=local_g,\n",
    ")\n",
    "\n",
    "print('Lattice gauge equivariant model: ')\n",
    "print(f'Model(g*link*g_inv) shape: {model_local_g_link_g_inv.shape}')\n",
    "print(f'Model(link) shape: {model_link.shape}')\n",
    "print(f'Local g*Model(link)*g_inv shape: {local_g_model_link_g_inv.shape}')\n",
    "print('='*100)\n",
    "print('Baseline model: ')\n",
    "print(f'Model(g*link*g_inv) shape: {baseline_model_local_g_link_g_inv.shape}')\n",
    "print(f'Model(link) shape: {baseline_model_link.shape}')\n",
    "print(f'Local g*Model(link)*g_inv shape: {baseline_local_g_model_link_g_inv.shape}')"
   ],
   "id": "e520bc93ec4b4d8c",
   "outputs": [
    {
     "name": "stdout",
     "output_type": "stream",
     "text": [
      "Lattice gauge equivariant model: \n",
      "Model(g*link*g_inv) shape: torch.Size([10, 256, 4, 1, 1])\n",
      "Model(link) shape: torch.Size([10, 256, 4, 1, 1])\n",
      "Local g*Model(link)*g_inv shape: torch.Size([10, 256, 4, 1, 1])\n",
      "====================================================================================================\n",
      "Baseline model: \n",
      "Model(g*link*g_inv) shape: torch.Size([10, 256, 4, 1, 1])\n",
      "Model(link) shape: torch.Size([10, 256, 4, 1, 1])\n",
      "Local g*Model(link)*g_inv shape: torch.Size([10, 256, 4, 1, 1])\n"
     ]
    }
   ],
   "execution_count": 165
  },
  {
   "metadata": {},
   "cell_type": "markdown",
   "source": [
    "#### Check the equivariance\n",
    "<br> $g(x) \\cdot Model \\left( link(x)_{\\mu} \\right) \\cdot g^{-1}(x+\\hat{\\mu}) = Model \\left( g(x) \\cdot link(x)_{\\mu} \\cdot g^{-1}(x+\\hat{\\mu}) \\right)$\n",
    "\n",
    "<br> But due to the numerical precision, the equality may not hold exactly.\n",
    "\n",
    "<br> We can check the difference between the two outputs.\n",
    "\n",
    "<br> $||g(x) \\cdot Model \\left( link(x)_{\\mu} \\right) \\cdot g^{-1}(x+\\hat{\\mu}) - Model \\left( g(x) \\cdot link(x)_{\\mu} \\cdot g^{-1}(x+\\hat{\\mu}) \\right)|| = \\epsilon$"
   ],
   "id": "9a5a8e6a9c9b6c77"
  },
  {
   "metadata": {
    "ExecuteTime": {
     "end_time": "2025-03-15T06:13:47.972090Z",
     "start_time": "2025-03-15T06:13:47.963698Z"
    }
   },
   "cell_type": "code",
   "source": [
    "print('Lattice gauge equivariant model: ')\n",
    "print(torch.allclose(local_g_model_link_g_inv, model_local_g_link_g_inv, atol=1e-3))\n",
    "print('Error :', torch.norm(local_g_model_link_g_inv - model_local_g_link_g_inv).item())\n",
    "print('='*100)\n",
    "print('Baseline model: ')\n",
    "print(torch.allclose(baseline_local_g_model_link_g_inv, baseline_model_local_g_link_g_inv, atol=1e-3))\n",
    "print('Error :', torch.norm(baseline_local_g_model_link_g_inv - baseline_model_local_g_link_g_inv).item())"
   ],
   "id": "e483dc05634b876c",
   "outputs": [
    {
     "name": "stdout",
     "output_type": "stream",
     "text": [
      "Lattice gauge equivariant model: \n",
      "True\n",
      "Error : 1.9191054889233783e-05\n",
      "====================================================================================================\n",
      "Baseline model: \n",
      "False\n",
      "Error : 26.964452743530273\n"
     ]
    }
   ],
   "execution_count": 166
  },
  {
   "metadata": {},
   "cell_type": "markdown",
   "source": "### Local gauge invariance",
   "id": "fa5dd7bc909876a6"
  },
  {
   "metadata": {},
   "cell_type": "markdown",
   "source": [
    "Apply the invariant model to the link and the transformed link.\n",
    "\n",
    "<br>$Model \\left( g(x) \\cdot link(x)_{\\mu} \\cdot g^{-1}(x+\\hat{\\mu}) \\right)$\n",
    "\n",
    "<br>$Model \\left( link(x)_{\\mu} \\right)$"
   ],
   "id": "e60c4c11eea8febf"
  },
  {
   "metadata": {
    "ExecuteTime": {
     "end_time": "2025-03-15T06:13:49.103747Z",
     "start_time": "2025-03-15T06:13:49.019216Z"
    }
   },
   "cell_type": "code",
   "source": [
    "invariant_model_local_g_link_g_inv = u1_gauge_invariant_model_4d(local_g_link_g_inv_real)\n",
    "baseline_model_local_g_link_g_inv = baseline_model(local_g_link_g_inv_real)\n",
    "\n",
    "invariant_model_link = u1_gauge_invariant_model_4d(link_real)\n",
    "baseline_model_link = baseline_model(link_real)\n",
    "\n",
    "print('Lattice gauge invariant model: ')\n",
    "print(f'Invariant model(g*link*g_inv) shape: {invariant_model_local_g_link_g_inv.shape}')\n",
    "print(f'Invariant model(link) shape: {invariant_model_link.shape}')\n",
    "print('='*100)\n",
    "print('Baseline model: ')\n",
    "print(f'Baseline model(g*link*g_inv) shape: {baseline_model_local_g_link_g_inv.shape}')\n",
    "print(f'Baseline model(link) shape: {baseline_model_link.shape}')"
   ],
   "id": "f983c203e4873858",
   "outputs": [
    {
     "name": "stdout",
     "output_type": "stream",
     "text": [
      "Lattice gauge invariant model: \n",
      "Invariant model(g*link*g_inv) shape: torch.Size([10, 256, 4, 2])\n",
      "Invariant model(link) shape: torch.Size([10, 256, 4, 2])\n",
      "====================================================================================================\n",
      "Baseline model: \n",
      "Baseline model(g*link*g_inv) shape: torch.Size([10, 256, 4, 1, 1, 2])\n",
      "Baseline model(link) shape: torch.Size([10, 256, 4, 1, 1, 2])\n"
     ]
    }
   ],
   "execution_count": 167
  },
  {
   "metadata": {},
   "cell_type": "markdown",
   "source": [
    "#### Check the invariance\n",
    "<br> $Model \\left( link(x) \\right) = Model \\left( g(x) \\cdot link(x)_{\\mu} \\cdot g^{-1}(x+\\hat{\\mu}) \\right)$\n",
    "\n",
    "<br> But due to the numerical precision, the equality may not hold exactly.\n",
    "\n",
    "<br> We can check the difference between the two outputs.\n",
    "\n",
    "<br> $||Model \\left( link(x) \\right) - Model \\left( g(x) \\cdot link(x)_{\\mu} \\cdot g^{-1}(x+\\hat{\\mu}) \\right)|| = \\epsilon$"
   ],
   "id": "f57e306dce67f71"
  },
  {
   "metadata": {
    "ExecuteTime": {
     "end_time": "2025-03-15T06:13:50.214903Z",
     "start_time": "2025-03-15T06:13:50.208429Z"
    }
   },
   "cell_type": "code",
   "source": [
    "print('Lattice gauge invariant model: ')\n",
    "print(torch.allclose(invariant_model_link, invariant_model_local_g_link_g_inv, atol=1e-3))\n",
    "print('Error:', torch.norm(invariant_model_link - invariant_model_local_g_link_g_inv).item())\n",
    "print('='*100)\n",
    "print('Baseline model: ')\n",
    "print(torch.allclose(baseline_model_link, baseline_model_local_g_link_g_inv, atol=1e-3))\n",
    "print('Error:', torch.norm(baseline_model_link - baseline_model_local_g_link_g_inv).item())"
   ],
   "id": "437bb33c862f3b6f",
   "outputs": [
    {
     "name": "stdout",
     "output_type": "stream",
     "text": [
      "Lattice gauge invariant model: \n",
      "True\n",
      "Error: 4.334547611506423e-06\n",
      "====================================================================================================\n",
      "Baseline model: \n",
      "False\n",
      "Error: 26.964452743530273\n"
     ]
    }
   ],
   "execution_count": 168
  },
  {
   "metadata": {},
   "cell_type": "markdown",
   "source": "## Check global phase invariance",
   "id": "a65dcd9b22c0df19"
  },
  {
   "metadata": {},
   "cell_type": "markdown",
   "source": "<br> $Model \\left( link \\right) = Model \\left( g \\cdot link \\right)$",
   "id": "422fa4a63c5dbd77"
  },
  {
   "metadata": {
    "ExecuteTime": {
     "end_time": "2025-03-15T06:13:51.369107Z",
     "start_time": "2025-03-15T06:13:51.271317Z"
    }
   },
   "cell_type": "code",
   "source": [
    "link = u1_group.random_element(sample_size=sample_size).view(batch_size, num_spacial_points, dim, u1_rep_dim, u1_rep_dim)\n",
    "\n",
    "global_g = u1_group.random_element().to(device)\n",
    "global_g_link = u1_group.left_action_on_Cn(global_g, link)\n",
    "\n",
    "global_g_link_real = u1_group.convert_to_real(global_g_link)\n",
    "link_real = u1_group.convert_to_real(link)\n",
    "\n",
    "invariant_model_link = u1_gauge_invariant_model_4d(link_real)\n",
    "baseline_model_link = baseline_model(link_real)\n",
    "\n",
    "invariant_model_global_g_link = u1_gauge_invariant_model_4d(global_g_link_real)\n",
    "baseline_model_global_g_link = baseline_model(global_g_link_real)\n",
    "\n",
    "print('Lattice gauge invariant model: ')\n",
    "print(torch.allclose(invariant_model_link, invariant_model_global_g_link, atol=1e-3))\n",
    "print('Error:', torch.norm(invariant_model_link - invariant_model_global_g_link).item())\n",
    "print('='*100)\n",
    "print('Baseline model: ')\n",
    "print(torch.allclose(baseline_model_link, baseline_model_global_g_link, atol=1e-3))\n",
    "print('Error:', torch.norm(baseline_model_link - baseline_model_global_g_link).item())"
   ],
   "id": "f73fdf719565200c",
   "outputs": [
    {
     "name": "stdout",
     "output_type": "stream",
     "text": [
      "Lattice gauge invariant model: \n",
      "True\n",
      "Error: 3.1458041576115647e-06\n",
      "====================================================================================================\n",
      "Baseline model: \n",
      "False\n",
      "Error: 29.229198455810547\n"
     ]
    }
   ],
   "execution_count": 169
  }
 ],
 "metadata": {
  "kernelspec": {
   "display_name": "Python 3",
   "language": "python",
   "name": "python3"
  },
  "language_info": {
   "codemirror_mode": {
    "name": "ipython",
    "version": 2
   },
   "file_extension": ".py",
   "mimetype": "text/x-python",
   "name": "python",
   "nbconvert_exporter": "python",
   "pygments_lexer": "ipython2",
   "version": "2.7.6"
  }
 },
 "nbformat": 4,
 "nbformat_minor": 5
}
